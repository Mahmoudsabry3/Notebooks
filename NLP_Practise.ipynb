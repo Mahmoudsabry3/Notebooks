{
  "nbformat": 4,
  "nbformat_minor": 0,
  "metadata": {
    "colab": {
      "name": "NLP_Practise.ipynb",
      "provenance": [],
      "authorship_tag": "ABX9TyOzZ+SO6yQWaPr2p2pMOsQe",
      "include_colab_link": true
    },
    "kernelspec": {
      "name": "python3",
      "display_name": "Python 3"
    },
    "language_info": {
      "name": "python"
    }
  },
  "cells": [
    {
      "cell_type": "markdown",
      "metadata": {
        "id": "view-in-github",
        "colab_type": "text"
      },
      "source": [
        "<a href=\"https://colab.research.google.com/github/Mahmoudsabry3/Notebooks/blob/main/NLP_Practise.ipynb\" target=\"_parent\"><img src=\"https://colab.research.google.com/assets/colab-badge.svg\" alt=\"Open In Colab\"/></a>"
      ]
    },
    {
      "cell_type": "code",
      "metadata": {
        "id": "PI0AWgI8E_N7"
      },
      "source": [
        "def respond(massage):\n",
        "  return \"this what you said : {}\".format(massage)\n"
      ],
      "execution_count": 4,
      "outputs": []
    },
    {
      "cell_type": "code",
      "metadata": {
        "id": "3aCrMwHwFuHg"
      },
      "source": [
        "import re\n",
        "\n",
        "bot_template = \"BOT : {0}\"\n",
        "user_template = \"USER : {0}\"\n",
        "patterns= {'greet': re.compile('hello|hi|hey'), \n",
        "           'goodbye': re.compile('bye|farewell'), \n",
        "           'thankyou': re.compile('thank|thx')}\n",
        "responses = {'default': 'default message',\n",
        "              'goodbye': 'goodbye for now',\n",
        "              'greet': 'Hello you! :)',\n",
        "              'thankyou': 'you are very welcom'}\n"
      ],
      "execution_count": 5,
      "outputs": []
    },
    {
      "cell_type": "code",
      "metadata": {
        "id": "KY3GdqWHGFEY",
        "colab": {
          "base_uri": "https://localhost:8080/"
        },
        "outputId": "b04031a9-12c2-4611-dc72-89f7223fc4a7"
      },
      "source": [
        "\n",
        "# Define a function that sends a message to the bot: send_message\n",
        "def send_message(message):\n",
        "    # Print user_template including the user_message\n",
        "    print(user_template.format(message))\n",
        "    # Get the bot's response to the message\n",
        "    response = respond(message)\n",
        "    # Print the bot template including the bot's response.\n",
        "    print(bot_template.format(response))\n",
        "def match_intent(message):\n",
        "    matched_intent = None\n",
        "    for intent, pattern in patterns.items():\n",
        "        # Check if the pattern occurs in the message \n",
        "        if re.search(pattern,message):\n",
        "            matched_intent = intent\n",
        "    return matched_intent\n",
        "\n",
        "# Define a respond function\n",
        "def respond(message):\n",
        "    # Call the match_intent function\n",
        "    intent = match_intent(message)\n",
        "    # Fall back to the default response\n",
        "    key = \"default\"\n",
        "    if intent in responses:\n",
        "        key = intent\n",
        "    return responses[key]\n",
        "\n",
        "# Send messages\n",
        "send_message(\"hello!\")\n",
        "send_message(\"bye byeee\")\n",
        "send_message(\"thanks very much!\")\n"
      ],
      "execution_count": 6,
      "outputs": [
        {
          "output_type": "stream",
          "text": [
            "USER : hello!\n",
            "BOT : Hello you! :)\n",
            "USER : bye byeee\n",
            "BOT : goodbye for now\n",
            "USER : thanks very much!\n",
            "BOT : you are very welcom\n"
          ],
          "name": "stdout"
        }
      ]
    },
    {
      "cell_type": "code",
      "metadata": {
        "colab": {
          "base_uri": "https://localhost:8080/"
        },
        "id": "32fhNvPYrnh0",
        "outputId": "fcbeab63-9996-4bf6-dba8-63eb93861d31"
      },
      "source": [
        "# Define find_name()\n",
        "def find_name(message):\n",
        "    name = None\n",
        "    # Create a pattern for checking if the keywords occur\n",
        "    name_keyword = re.compile('name|call')\n",
        "    # Create a pattern for finding capitalized words\n",
        "    name_pattern = re.compile('[A-Z]{1}[a-z]*')\n",
        "    if name_keyword.search(message):\n",
        "        # Get the matching words in the string\n",
        "        name_words = re.findall(name_pattern,message)\n",
        "        if len(name_words) > 0:\n",
        "            # Return the name if the keywords are present\n",
        "            name = ' '.join(name_words)\n",
        "    return name\n",
        "\n",
        "# Define respond()\n",
        "def respond(message):\n",
        "    # Find the name\n",
        "    name = find_name(message)\n",
        "    if name is None:\n",
        "        return \"Hi there!\"\n",
        "    else:\n",
        "        return \"Hello, {0}!\".format(name)\n",
        "\n",
        "# Send messages\n",
        "send_message(\"my name is David Copperfield\")\n",
        "send_message(\"call me Ishmael\")\n",
        "send_message(\"People call me Cassandra\")\n",
        "send_message(\"People call me MAHMOUD \")"
      ],
      "execution_count": 11,
      "outputs": [
        {
          "output_type": "stream",
          "text": [
            "USER : my name is David Copperfield\n",
            "BOT : Hello, David Copperfield!\n",
            "USER : call me Ishmael\n",
            "BOT : Hello, Ishmael!\n",
            "USER : People call me Cassandra\n",
            "BOT : Hello, People Cassandra!\n",
            "USER : People call me MAHMOUD \n",
            "BOT : Hello, People M A H M O U D!\n"
          ],
          "name": "stdout"
        }
      ]
    },
    {
      "cell_type": "code",
      "metadata": {
        "id": "GqJe-6Cpl1jk"
      },
      "source": [
        "import en_core_web_sm\n"
      ],
      "execution_count": 52,
      "outputs": []
    },
    {
      "cell_type": "code",
      "metadata": {
        "id": "U9GGdq54xwNL"
      },
      "source": [
        "import spacy \n",
        "import numpy as np\n"
      ],
      "execution_count": 49,
      "outputs": []
    },
    {
      "cell_type": "code",
      "metadata": {
        "id": "KtOy6MmgiXee"
      },
      "source": [
        "\n",
        "labels = ['atis_flight',\n",
        " 'atis_flight',\n",
        " 'atis_flight_time',\n",
        " 'atis_airfare',\n",
        " 'atis_airfare',\n",
        " 'atis_flight',\n",
        " 'atis_aircraft',\n",
        " 'atis_flight',\n",
        " 'atis_flight',\n",
        " 'atis_ground_service',\n",
        " 'atis_flight',\n",
        " 'atis_flight',\n",
        " 'atis_flight',\n",
        " 'atis_flight',\n",
        " 'atis_airfare',\n",
        " 'atis_ground_service',\n",
        " 'atis_flight',\n",
        " 'atis_flight',\n",
        " 'atis_flight',\n",
        " 'atis_flight',\n",
        " 'atis_flight',\n",
        " 'atis_flight',\n",
        " 'atis_aircraft',\n",
        " 'atis_airfare',\n",
        " 'atis_flight',\n",
        " 'atis_airline',\n",
        " 'atis_flight',\n",
        " 'atis_ground_service',\n",
        " 'atis_flight',\n",
        " 'atis_airfare']\n",
        "sentences = [' i want to fly from boston at 838 am and arrive in denver at 1110 in the morning',\n",
        " ' what flights are available from pittsburgh to baltimore on thursday morning',\n",
        " ' what is the arrival time in san francisco for the 755 am flight leaving washington',\n",
        " ' cheapest airfare from tacoma to orlando',\n",
        " ' round trip fares from pittsburgh to philadelphia under 1000 dollars',\n",
        " ' i need a flight tomorrow from columbus to minneapolis',\n",
        " ' what kind of aircraft is used on a flight from cleveland to dallas',\n",
        " ' show me the flights from pittsburgh to los angeles on thursday',\n",
        " ' all flights from boston to washington',\n",
        " ' what kind of ground transportation is available in denver',\n",
        " ' show me the flights from dallas to san francisco',\n",
        " ' show me the flights from san diego to newark by way of houston',\n",
        " ' what is the cheapest flight from boston to bwi',\n",
        " ' all flights to baltimore after 6 pm',\n",
        " ' show me the first class fares from boston to denver',\n",
        " ' show me the ground transportation in denver',\n",
        " ' all flights from denver to pittsburgh leaving after 6 pm and before 7 pm',\n",
        " ' i need information on flights for tuesday leaving baltimore for dallas dallas to boston and boston to baltimore',\n",
        " ' please give me the flights from boston to pittsburgh on thursday of next week',\n",
        " ' i would like to fly from denver to pittsburgh on united airlines',\n",
        " ' show me the flights from san diego to newark',\n",
        " ' please list all first class flights on united from denver to baltimore',\n",
        " ' what kinds of planes are used by american airlines',\n",
        " \" i'd like to have some information on a ticket from denver to pittsburgh and atlanta\",\n",
        " \" i'd like to book a flight from atlanta to denver\",\n",
        " ' which airline serves denver pittsburgh and atlanta',\n",
        " \" show me all flights from boston to pittsburgh on wednesday of next week which leave boston after 2 o'clock pm\",\n",
        " ' atlanta ground transportation',\n",
        " ' i also need service from dallas to boston arriving by noon',\n",
        " ' show me the cheapest round trip fare from baltimore to dallas']"
      ],
      "execution_count": 50,
      "outputs": []
    },
    {
      "cell_type": "code",
      "metadata": {
        "colab": {
          "base_uri": "https://localhost:8080/",
          "height": 221
        },
        "id": "Ah8Oz4fyiVQv",
        "outputId": "9c6ade30-1b40-44de-f27d-c395d4abf69e"
      },
      "source": [
        "# Load the spacy model: nlp\n",
        "nlp = en_core_web_sm.load()\n",
        "# Calculate the length of sentences\n",
        "n_sentences = len(sentences)\n",
        "\n",
        "# Calculate the dimensionality of nlp\n",
        "embedding_dim = nlp.vocab.vectors_length\n",
        "print(embedding_dim)\n",
        "# Initialize the array with zeros: X\n",
        "X = np.zeros((n_sentences, embedding_dim))\n",
        "\n",
        "# Iterate over the sentences\n",
        "for idx, sentence in enumerate(sentences):\n",
        "    # Pass each each sentence to the nlp object to create a document\n",
        "    doc = nlp(sentence)\n",
        "    # Save the document's .vector attribute to the corresponding row in X\n",
        "    X[idx, :] = doc.vector"
      ],
      "execution_count": 54,
      "outputs": [
        {
          "output_type": "stream",
          "text": [
            "0\n"
          ],
          "name": "stdout"
        },
        {
          "output_type": "error",
          "ename": "ValueError",
          "evalue": "ignored",
          "traceback": [
            "\u001b[0;31m---------------------------------------------------------------------------\u001b[0m",
            "\u001b[0;31mValueError\u001b[0m                                Traceback (most recent call last)",
            "\u001b[0;32m<ipython-input-54-c6f9765a0b2e>\u001b[0m in \u001b[0;36m<module>\u001b[0;34m()\u001b[0m\n\u001b[1;32m     15\u001b[0m     \u001b[0mdoc\u001b[0m \u001b[0;34m=\u001b[0m \u001b[0mnlp\u001b[0m\u001b[0;34m(\u001b[0m\u001b[0msentence\u001b[0m\u001b[0;34m)\u001b[0m\u001b[0;34m\u001b[0m\u001b[0;34m\u001b[0m\u001b[0m\n\u001b[1;32m     16\u001b[0m     \u001b[0;31m# Save the document's .vector attribute to the corresponding row in X\u001b[0m\u001b[0;34m\u001b[0m\u001b[0;34m\u001b[0m\u001b[0;34m\u001b[0m\u001b[0m\n\u001b[0;32m---> 17\u001b[0;31m     \u001b[0mX\u001b[0m\u001b[0;34m[\u001b[0m\u001b[0midx\u001b[0m\u001b[0;34m,\u001b[0m \u001b[0;34m:\u001b[0m\u001b[0;34m]\u001b[0m \u001b[0;34m=\u001b[0m \u001b[0mdoc\u001b[0m\u001b[0;34m.\u001b[0m\u001b[0mvector\u001b[0m\u001b[0;34m\u001b[0m\u001b[0;34m\u001b[0m\u001b[0m\n\u001b[0m",
            "\u001b[0;31mValueError\u001b[0m: could not broadcast input array from shape (96) into shape (0)"
          ]
        }
      ]
    },
    {
      "cell_type": "code",
      "metadata": {
        "id": "9msCW9TgcTlD"
      },
      "source": [
        "for token in nlp(\"apple\"):\n",
        "    print(token.lemma_, token.lemma, token.is_oov, \"apple\" in nlp.vocab)"
      ],
      "execution_count": null,
      "outputs": []
    },
    {
      "cell_type": "code",
      "metadata": {
        "id": "1qRoTHs4vOsl"
      },
      "source": [
        ""
      ],
      "execution_count": null,
      "outputs": []
    },
    {
      "cell_type": "code",
      "metadata": {
        "id": "b50lNNp5krFH"
      },
      "source": [
        ""
      ],
      "execution_count": null,
      "outputs": []
    }
  ]
}