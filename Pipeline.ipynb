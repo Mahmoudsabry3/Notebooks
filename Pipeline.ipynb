{
  "nbformat": 4,
  "nbformat_minor": 0,
  "metadata": {
    "colab": {
      "name": "Pipeline.ipynb",
      "provenance": [],
      "authorship_tag": "ABX9TyMw2wkZgrxZiLgDLuYWekmu",
      "include_colab_link": true
    },
    "kernelspec": {
      "name": "python3",
      "display_name": "Python 3"
    }
  },
  "cells": [
    {
      "cell_type": "markdown",
      "metadata": {
        "id": "view-in-github",
        "colab_type": "text"
      },
      "source": [
        "<a href=\"https://colab.research.google.com/github/Mahmoudsabry3/scripts/blob/main/Pipeline.ipynb\" target=\"_parent\"><img src=\"https://colab.research.google.com/assets/colab-badge.svg\" alt=\"Open In Colab\"/></a>"
      ]
    },
    {
      "cell_type": "code",
      "metadata": {
        "id": "bUu6Sk7jgdTb"
      },
      "source": [
        "import numpy as np\r\n",
        "import pandas as pd\r\n",
        "from pandas.plotting import scatter_matrix, parallel_coordinates\r\n",
        "import seaborn as sns\r\n",
        "import missingno as msno\r\n",
        "import matplotlib.pyplot as plt\r\n",
        "%matplotlib inline\r\n",
        "import os\r\n",
        "import zipfile\r\n",
        "import requests \r\n",
        "'''\r\n",
        "from google.colab import drive\r\n",
        "drive.mount('/content/drive')'''"
      ],
      "execution_count": null,
      "outputs": []
    },
    {
      "cell_type": "markdown",
      "metadata": {
        "id": "zG6yJ5QWg1EN"
      },
      "source": [
        "### **Plus** **for zip files**"
      ]
    },
    {
      "cell_type": "code",
      "metadata": {
        "id": "VemtOxv2gs9T"
      },
      "source": [
        "\r\n",
        "url_for_the_zipped_file = '/content/drive/MyDrive/Colab Notebooks/random files/BankChurners.csv.zip'\r\n",
        "distantion = \"/content/drive/MyDrive/Colab Ncotebooks/random files/\"\r\n",
        "    "
      ],
      "execution_count": null,
      "outputs": []
    },
    {
      "cell_type": "code",
      "metadata": {
        "id": "7s6r6Aqmv0ds"
      },
      "source": [
        "\r\n",
        "df = pd.read_excel('/content/drive/MyDrive/Colab Notebooks/random files/Profit optimiser excel.xlsx')"
      ],
      "execution_count": null,
      "outputs": []
    },
    {
      "cell_type": "code",
      "metadata": {
        "id": "AxWIrWacwk_7"
      },
      "source": [
        "df"
      ],
      "execution_count": null,
      "outputs": []
    },
    {
      "cell_type": "code",
      "metadata": {
        "id": "cJRM4RUkwO52"
      },
      "source": [
        "# ratio of fig size around 2x of columns nums\r\n",
        "scatter_matrix(df,figsize = (15,15));"
      ],
      "execution_count": null,
      "outputs": []
    },
    {
      "cell_type": "markdown",
      "metadata": {
        "id": "1EcT54mPwu0G"
      },
      "source": [
        "*zooming in for spcific column*\r\n",
        "\r\n",
        "\r\n"
      ]
    },
    {
      "cell_type": "code",
      "metadata": {
        "colab": {
          "base_uri": "https://localhost:8080/",
          "height": 167
        },
        "id": "ZWhZGglIwtSM",
        "outputId": "eb26822a-e605-44b1-812b-a93fee472542"
      },
      "source": [
        "sns.distplot(df['US30(Open)'],kde=True)"
      ],
      "execution_count": 1,
      "outputs": [
        {
          "output_type": "error",
          "ename": "NameError",
          "evalue": "ignored",
          "traceback": [
            "\u001b[0;31m---------------------------------------------------------------------------\u001b[0m",
            "\u001b[0;31mNameError\u001b[0m                                 Traceback (most recent call last)",
            "\u001b[0;32m<ipython-input-1-d317c5c30bca>\u001b[0m in \u001b[0;36m<module>\u001b[0;34m()\u001b[0m\n\u001b[0;32m----> 1\u001b[0;31m \u001b[0msns\u001b[0m\u001b[0;34m.\u001b[0m\u001b[0mdistplot\u001b[0m\u001b[0;34m(\u001b[0m\u001b[0mdf\u001b[0m\u001b[0;34m[\u001b[0m\u001b[0;34m'US30(Open)'\u001b[0m\u001b[0;34m]\u001b[0m\u001b[0;34m,\u001b[0m\u001b[0mkde\u001b[0m\u001b[0;34m=\u001b[0m\u001b[0;32mTrue\u001b[0m\u001b[0;34m)\u001b[0m\u001b[0;34m\u001b[0m\u001b[0;34m\u001b[0m\u001b[0m\n\u001b[0m",
            "\u001b[0;31mNameError\u001b[0m: name 'sns' is not defined"
          ]
        }
      ]
    },
    {
      "cell_type": "code",
      "metadata": {
        "id": "hGkRZtCmxMxe"
      },
      "source": [
        ""
      ],
      "execution_count": null,
      "outputs": []
    }
  ]
}