{
  "nbformat": 4,
  "nbformat_minor": 0,
  "metadata": {
    "colab": {
      "name": ".ipynb",
      "provenance": [],
      "collapsed_sections": [
        "NUr8GliBA5Wv",
        "QUT0fSmtA5Ww",
        "Sx5ViVkoA5Wz",
        "fYoiu_erA5Wz"
      ],
      "include_colab_link": true
    },
    "kernelspec": {
      "display_name": "Python 3",
      "language": "python",
      "name": "python3"
    },
    "language_info": {
      "codemirror_mode": {
        "name": "ipython",
        "version": 3
      },
      "file_extension": ".py",
      "mimetype": "text/x-python",
      "name": "python",
      "nbconvert_exporter": "python",
      "pygments_lexer": "ipython3",
      "version": "3.7.4"
    }
  },
  "cells": [
    {
      "cell_type": "markdown",
      "metadata": {
        "id": "view-in-github",
        "colab_type": "text"
      },
      "source": [
        "<a href=\"https://colab.research.google.com/github/Mahmoudsabry3/scripts/blob/main/Investigation.ipynb\" target=\"_parent\"><img src=\"https://colab.research.google.com/assets/colab-badge.svg\" alt=\"Open In Colab\"/></a>"
      ]
    },
    {
      "cell_type": "markdown",
      "metadata": {
        "id": "JasiFd-EA5Wf"
      },
      "source": [
        "#### Reading data"
      ]
    },
    {
      "cell_type": "code",
      "metadata": {
        "id": "KNspiZOQ9z_N"
      },
      "source": [
        "import pandas as pd\n",
        "# from dateutil.parser import _resultbase\n",
        "from sklearn.preprocessing import OneHotEncoder\n",
        "from sklearn.preprocessing import LabelEncoder\n",
        "from sklearn.metrics import silhouette_score\n",
        "import matplotlib.pyplot as plt\n",
        "from sklearn.cluster import KMeans\n",
        "import seaborn as sns\n",
        "from sklearn.preprocessing import StandardScaler\n",
        "from sklearn import metrics\n",
        "from sklearn.cluster import AgglomerativeClustering\n",
        "from sklearn.model_selection import train_test_split\n",
        "from sklearn.cluster import DBSCAN\n",
        "from sklearn.preprocessing import normalize\n",
        "from sklearn.decomposition import PCA\n",
        "from collections import Counter\n",
        "import numpy as np\n",
        "from neupy import algorithms, utils\n",
        "import pickle"
      ],
      "execution_count": null,
      "outputs": []
    },
    {
      "cell_type": "code",
      "metadata": {
        "colab": {
          "base_uri": "https://localhost:8080/",
          "height": 286
        },
        "id": "CiewoUHGA5Wh",
        "outputId": "12ac6fb0-0623-42b7-db65-11be3375ecbc"
      },
      "source": [
        "import pandas as pd  #importing pandas , pandas will help us to read and manipulate data\n",
        "data = pd.read_excel('Data2.xlsx', index_col=0) #reading data\n",
        "# indel_col= 0 , here we are using column 0 to index our rows\n",
        "data.head(3) #head(3) will return the 1st 3 rows"
      ],
      "execution_count": null,
      "outputs": [
        {
          "output_type": "execute_result",
          "data": {
            "text/html": [
              "<div>\n",
              "<style scoped>\n",
              "    .dataframe tbody tr th:only-of-type {\n",
              "        vertical-align: middle;\n",
              "    }\n",
              "\n",
              "    .dataframe tbody tr th {\n",
              "        vertical-align: top;\n",
              "    }\n",
              "\n",
              "    .dataframe thead th {\n",
              "        text-align: right;\n",
              "    }\n",
              "</style>\n",
              "<table border=\"1\" class=\"dataframe\">\n",
              "  <thead>\n",
              "    <tr style=\"text-align: right;\">\n",
              "      <th></th>\n",
              "      <th>Investigation_Id</th>\n",
              "      <th>Week_No</th>\n",
              "      <th>Investigation_Created_Day</th>\n",
              "      <th>Investigation_Created_Date_Time</th>\n",
              "      <th>Recording_Year</th>\n",
              "      <th>Age</th>\n",
              "      <th>Gender</th>\n",
              "      <th>Nationality</th>\n",
              "      <th>Occupation</th>\n",
              "      <th>Disrtict_ID</th>\n",
              "      <th>...</th>\n",
              "      <th>Elevation</th>\n",
              "      <th>Area_CL</th>\n",
              "      <th>Area_HC</th>\n",
              "      <th>Area_TC</th>\n",
              "      <th>Area_SV</th>\n",
              "      <th>Urban_Area</th>\n",
              "      <th>Bare_Area</th>\n",
              "      <th>Area_CBA</th>\n",
              "      <th>Area_UBA</th>\n",
              "      <th>Water_Area</th>\n",
              "    </tr>\n",
              "    <tr>\n",
              "      <th>Case_ID</th>\n",
              "      <th></th>\n",
              "      <th></th>\n",
              "      <th></th>\n",
              "      <th></th>\n",
              "      <th></th>\n",
              "      <th></th>\n",
              "      <th></th>\n",
              "      <th></th>\n",
              "      <th></th>\n",
              "      <th></th>\n",
              "      <th></th>\n",
              "      <th></th>\n",
              "      <th></th>\n",
              "      <th></th>\n",
              "      <th></th>\n",
              "      <th></th>\n",
              "      <th></th>\n",
              "      <th></th>\n",
              "      <th></th>\n",
              "      <th></th>\n",
              "      <th></th>\n",
              "    </tr>\n",
              "  </thead>\n",
              "  <tbody>\n",
              "    <tr>\n",
              "      <td>2</td>\n",
              "      <td>JED012-2</td>\n",
              "      <td>1</td>\n",
              "      <td>Saturday</td>\n",
              "      <td>2011-12-31</td>\n",
              "      <td>2012</td>\n",
              "      <td>11.0</td>\n",
              "      <td>Male</td>\n",
              "      <td>Saudi</td>\n",
              "      <td>Student</td>\n",
              "      <td>NaN</td>\n",
              "      <td>...</td>\n",
              "      <td>NaN</td>\n",
              "      <td>NaN</td>\n",
              "      <td>NaN</td>\n",
              "      <td>NaN</td>\n",
              "      <td>NaN</td>\n",
              "      <td>NaN</td>\n",
              "      <td>NaN</td>\n",
              "      <td>NaN</td>\n",
              "      <td>NaN</td>\n",
              "      <td>NaN</td>\n",
              "    </tr>\n",
              "    <tr>\n",
              "      <td>3</td>\n",
              "      <td>JED012-3</td>\n",
              "      <td>1</td>\n",
              "      <td>Saturday</td>\n",
              "      <td>2011-12-31</td>\n",
              "      <td>2012</td>\n",
              "      <td>35.0</td>\n",
              "      <td>Male</td>\n",
              "      <td>Saudi</td>\n",
              "      <td>NaN</td>\n",
              "      <td>159.0</td>\n",
              "      <td>...</td>\n",
              "      <td>15.321481</td>\n",
              "      <td>0.0</td>\n",
              "      <td>1170000.0</td>\n",
              "      <td>0.0</td>\n",
              "      <td>0.0</td>\n",
              "      <td>4050000.0</td>\n",
              "      <td>180000.0</td>\n",
              "      <td>0.0</td>\n",
              "      <td>1440000.0</td>\n",
              "      <td>0.0</td>\n",
              "    </tr>\n",
              "    <tr>\n",
              "      <td>4</td>\n",
              "      <td>JED012-4</td>\n",
              "      <td>1</td>\n",
              "      <td>Saturday</td>\n",
              "      <td>2011-12-31</td>\n",
              "      <td>2012</td>\n",
              "      <td>24.0</td>\n",
              "      <td>Female</td>\n",
              "      <td>Saudi</td>\n",
              "      <td>Teacher</td>\n",
              "      <td>206.0</td>\n",
              "      <td>...</td>\n",
              "      <td>0.000000</td>\n",
              "      <td>0.0</td>\n",
              "      <td>0.0</td>\n",
              "      <td>0.0</td>\n",
              "      <td>0.0</td>\n",
              "      <td>8460000.0</td>\n",
              "      <td>0.0</td>\n",
              "      <td>0.0</td>\n",
              "      <td>0.0</td>\n",
              "      <td>0.0</td>\n",
              "    </tr>\n",
              "  </tbody>\n",
              "</table>\n",
              "<p>3 rows × 42 columns</p>\n",
              "</div>"
            ],
            "text/plain": [
              "        Investigation_Id  Week_No Investigation_Created_Day  \\\n",
              "Case_ID                                                       \n",
              "2               JED012-2        1                  Saturday   \n",
              "3               JED012-3        1                  Saturday   \n",
              "4               JED012-4        1                  Saturday   \n",
              "\n",
              "        Investigation_Created_Date_Time  Recording_Year   Age  Gender  \\\n",
              "Case_ID                                                                 \n",
              "2                            2011-12-31            2012  11.0    Male   \n",
              "3                            2011-12-31            2012  35.0    Male   \n",
              "4                            2011-12-31            2012  24.0  Female   \n",
              "\n",
              "        Nationality Occupation  Disrtict_ID  ...  Elevation Area_CL  \\\n",
              "Case_ID                                      ...                      \n",
              "2             Saudi    Student          NaN  ...        NaN     NaN   \n",
              "3             Saudi        NaN        159.0  ...  15.321481     0.0   \n",
              "4             Saudi    Teacher        206.0  ...   0.000000     0.0   \n",
              "\n",
              "           Area_HC  Area_TC  Area_SV  Urban_Area Bare_Area Area_CBA  \\\n",
              "Case_ID                                                               \n",
              "2              NaN      NaN      NaN         NaN       NaN      NaN   \n",
              "3        1170000.0      0.0      0.0   4050000.0  180000.0      0.0   \n",
              "4              0.0      0.0      0.0   8460000.0       0.0      0.0   \n",
              "\n",
              "          Area_UBA Water_Area  \n",
              "Case_ID                        \n",
              "2              NaN        NaN  \n",
              "3        1440000.0        0.0  \n",
              "4              0.0        0.0  \n",
              "\n",
              "[3 rows x 42 columns]"
            ]
          },
          "metadata": {
            "tags": []
          },
          "execution_count": 2
        }
      ]
    },
    {
      "cell_type": "markdown",
      "metadata": {
        "id": "ZrSI71LmA5Wj"
      },
      "source": [
        "#### Data preprocessing"
      ]
    },
    {
      "cell_type": "code",
      "metadata": {
        "colab": {
          "base_uri": "https://localhost:8080/"
        },
        "id": "67wAc69AA5Wj",
        "outputId": "540025d2-c547-4a27-d0ce-f07fdae2b2eb"
      },
      "source": [
        "data.columns # data.columns will all the columns in our data"
      ],
      "execution_count": null,
      "outputs": [
        {
          "output_type": "execute_result",
          "data": {
            "text/plain": [
              "Index(['Investigation_Id', 'Week_No', 'Investigation_Created_Day',\n",
              "       'Investigation_Created_Date_Time', 'Recording_Year', 'Age', 'Gender',\n",
              "       'Nationality', 'Occupation', 'Disrtict_ID', 'Disrtict',\n",
              "       'Original_Disrtict', 'Initial_District_Name', 'Initial_Disrtict_Code',\n",
              "       'Disrtict_Code', 'Initial_Address', 'Address', 'Municipality',\n",
              "       'Municipality_ID', 'City', 'The_Date_the_Symptoms_Appeared',\n",
              "       'Hospital_Name', 'Was_the_Patient_Hypnotized_YES',\n",
              "       'Was_the_Patient_Hypnotized_NO', 'The_Final_Diagnosis',\n",
              "       'International_Epidemiological_Weeks', 'Sampling_Date', 'Population',\n",
              "       'Temperature', 'Precipitation', 'Wind_Speed', 'Humidity', 'Elevation',\n",
              "       'Area_CL', 'Area_HC', 'Area_TC', 'Area_SV', 'Urban_Area', 'Bare_Area',\n",
              "       'Area_CBA', 'Area_UBA', 'Water_Area'],\n",
              "      dtype='object')"
            ]
          },
          "metadata": {
            "tags": []
          },
          "execution_count": 3
        }
      ]
    },
    {
      "cell_type": "code",
      "metadata": {
        "colab": {
          "base_uri": "https://localhost:8080/"
        },
        "id": "4HCXibPeA5Wk",
        "outputId": "df0cc18a-6bde-4cac-8583-94fd6d6f851c"
      },
      "source": [
        "data.info() # data.info will return information data"
      ],
      "execution_count": null,
      "outputs": [
        {
          "output_type": "stream",
          "text": [
            "<class 'pandas.core.frame.DataFrame'>\n",
            "Int64Index: 1790 entries, 2 to 1928\n",
            "Data columns (total 42 columns):\n",
            "Investigation_Id                       1790 non-null object\n",
            "Week_No                                1790 non-null int64\n",
            "Investigation_Created_Day              1790 non-null object\n",
            "Investigation_Created_Date_Time        1790 non-null datetime64[ns]\n",
            "Recording_Year                         1790 non-null int64\n",
            "Age                                    1773 non-null float64\n",
            "Gender                                 1789 non-null object\n",
            "Nationality                            1780 non-null object\n",
            "Occupation                             1168 non-null object\n",
            "Disrtict_ID                            1292 non-null float64\n",
            "Disrtict                               1323 non-null object\n",
            "Original_Disrtict                      1789 non-null object\n",
            "Initial_District_Name                  0 non-null float64\n",
            "Initial_Disrtict_Code                  0 non-null float64\n",
            "Disrtict_Code                          1733 non-null float64\n",
            "Initial_Address                        0 non-null float64\n",
            "Address                                1782 non-null object\n",
            "Municipality                           1323 non-null object\n",
            "Municipality_ID                        1323 non-null float64\n",
            "City                                   1402 non-null object\n",
            "The_Date_the_Symptoms_Appeared         1272 non-null datetime64[ns]\n",
            "Hospital_Name                          1790 non-null object\n",
            "Was_the_Patient_Hypnotized_YES         996 non-null object\n",
            "Was_the_Patient_Hypnotized_NO          780 non-null object\n",
            "The_Final_Diagnosis                    1789 non-null object\n",
            "International_Epidemiological_Weeks    1790 non-null object\n",
            "Sampling_Date                          947 non-null datetime64[ns]\n",
            "Population                             1288 non-null float64\n",
            "Temperature                            1288 non-null float64\n",
            "Precipitation                          1288 non-null float64\n",
            "Wind_Speed                             1288 non-null float64\n",
            "Humidity                               1288 non-null float64\n",
            "Elevation                              1288 non-null float64\n",
            "Area_CL                                1288 non-null float64\n",
            "Area_HC                                1288 non-null float64\n",
            "Area_TC                                1288 non-null float64\n",
            "Area_SV                                1288 non-null float64\n",
            "Urban_Area                             1288 non-null float64\n",
            "Bare_Area                              1288 non-null float64\n",
            "Area_CBA                               1288 non-null float64\n",
            "Area_UBA                               1288 non-null float64\n",
            "Water_Area                             1288 non-null float64\n",
            "dtypes: datetime64[ns](3), float64(22), int64(2), object(15)\n",
            "memory usage: 601.3+ KB\n"
          ],
          "name": "stdout"
        }
      ]
    },
    {
      "cell_type": "markdown",
      "metadata": {
        "id": "vE7JKdYHWrfa"
      },
      "source": [
        "#### Binary Encoding"
      ]
    },
    {
      "cell_type": "code",
      "metadata": {
        "id": "utWvaCnAWqZr"
      },
      "source": [
        "#!pip install category-encoders\n",
        "import category_encoders as ce\n",
        "# Enter the columns name\n",
        "cols = ['Week_No', 'Recording_Year','Age','Gender', 'Nationality', 'Occupation','Municipality_ID','Hospital_Name','The_Final_Diagnosis','Population', 'Temperature','Precipitation', 'Wind_Speed', 'Humidity', 'Elevation', 'Area_CL', 'Area_HC', 'Area_TC', 'Area_SV', 'Urban_Area', 'Bare_Area', 'Area_CBA', 'Area_UBA', 'Water_Area']"
      ],
      "execution_count": null,
      "outputs": []
    },
    {
      "cell_type": "code",
      "metadata": {
        "colab": {
          "base_uri": "https://localhost:8080/",
          "height": 715
        },
        "id": "W5Wiot7ZWqn7",
        "outputId": "66e8a501-c1f1-437c-8eb4-b4c1116829c7"
      },
      "source": [
        "for col in cols:\n",
        "  encoder = ce.BinaryEncoder(cols = col)\n",
        "  dfbin = encoder.fit_transform(data[col])\n",
        "  data = pd.concat([data, dfbin], axis = 1)\n",
        "\n",
        "print(data.columns)\n",
        "data.head()"
      ],
      "execution_count": null,
      "outputs": [
        {
          "output_type": "stream",
          "text": [
            "Index(['Investigation_Id', 'Week_No', 'Investigation_Created_Day',\n",
            "       'Investigation_Created_Date_Time', 'Recording_Year', 'Age', 'Gender',\n",
            "       'Nationality', 'Occupation', 'Disrtict_ID',\n",
            "       ...\n",
            "       'Area_UBA_0', 'Area_UBA_1', 'Area_UBA_2', 'Area_UBA_3', 'Area_UBA_4',\n",
            "       'Water_Area_0', 'Water_Area_1', 'Water_Area_2', 'Water_Area_3',\n",
            "       'Water_Area_4'],\n",
            "      dtype='object', length=181)\n"
          ],
          "name": "stdout"
        },
        {
          "output_type": "execute_result",
          "data": {
            "text/html": [
              "<div>\n",
              "<style scoped>\n",
              "    .dataframe tbody tr th:only-of-type {\n",
              "        vertical-align: middle;\n",
              "    }\n",
              "\n",
              "    .dataframe tbody tr th {\n",
              "        vertical-align: top;\n",
              "    }\n",
              "\n",
              "    .dataframe thead th {\n",
              "        text-align: right;\n",
              "    }\n",
              "</style>\n",
              "<table border=\"1\" class=\"dataframe\">\n",
              "  <thead>\n",
              "    <tr style=\"text-align: right;\">\n",
              "      <th></th>\n",
              "      <th>Investigation_Id</th>\n",
              "      <th>Week_No</th>\n",
              "      <th>Investigation_Created_Day</th>\n",
              "      <th>Investigation_Created_Date_Time</th>\n",
              "      <th>Recording_Year</th>\n",
              "      <th>Age</th>\n",
              "      <th>Gender</th>\n",
              "      <th>Nationality</th>\n",
              "      <th>Occupation</th>\n",
              "      <th>Disrtict_ID</th>\n",
              "      <th>...</th>\n",
              "      <th>Area_UBA_0</th>\n",
              "      <th>Area_UBA_1</th>\n",
              "      <th>Area_UBA_2</th>\n",
              "      <th>Area_UBA_3</th>\n",
              "      <th>Area_UBA_4</th>\n",
              "      <th>Water_Area_0</th>\n",
              "      <th>Water_Area_1</th>\n",
              "      <th>Water_Area_2</th>\n",
              "      <th>Water_Area_3</th>\n",
              "      <th>Water_Area_4</th>\n",
              "    </tr>\n",
              "    <tr>\n",
              "      <th>Case_ID</th>\n",
              "      <th></th>\n",
              "      <th></th>\n",
              "      <th></th>\n",
              "      <th></th>\n",
              "      <th></th>\n",
              "      <th></th>\n",
              "      <th></th>\n",
              "      <th></th>\n",
              "      <th></th>\n",
              "      <th></th>\n",
              "      <th></th>\n",
              "      <th></th>\n",
              "      <th></th>\n",
              "      <th></th>\n",
              "      <th></th>\n",
              "      <th></th>\n",
              "      <th></th>\n",
              "      <th></th>\n",
              "      <th></th>\n",
              "      <th></th>\n",
              "      <th></th>\n",
              "    </tr>\n",
              "  </thead>\n",
              "  <tbody>\n",
              "    <tr>\n",
              "      <td>2</td>\n",
              "      <td>JED012-2</td>\n",
              "      <td>1</td>\n",
              "      <td>Saturday</td>\n",
              "      <td>2011-12-31</td>\n",
              "      <td>2012</td>\n",
              "      <td>11.0</td>\n",
              "      <td>Male</td>\n",
              "      <td>Saudi</td>\n",
              "      <td>Student</td>\n",
              "      <td>NaN</td>\n",
              "      <td>...</td>\n",
              "      <td>0</td>\n",
              "      <td>0</td>\n",
              "      <td>0</td>\n",
              "      <td>0</td>\n",
              "      <td>1</td>\n",
              "      <td>0</td>\n",
              "      <td>0</td>\n",
              "      <td>0</td>\n",
              "      <td>0</td>\n",
              "      <td>1</td>\n",
              "    </tr>\n",
              "    <tr>\n",
              "      <td>3</td>\n",
              "      <td>JED012-3</td>\n",
              "      <td>1</td>\n",
              "      <td>Saturday</td>\n",
              "      <td>2011-12-31</td>\n",
              "      <td>2012</td>\n",
              "      <td>35.0</td>\n",
              "      <td>Male</td>\n",
              "      <td>Saudi</td>\n",
              "      <td>NaN</td>\n",
              "      <td>159.0</td>\n",
              "      <td>...</td>\n",
              "      <td>0</td>\n",
              "      <td>0</td>\n",
              "      <td>0</td>\n",
              "      <td>1</td>\n",
              "      <td>0</td>\n",
              "      <td>0</td>\n",
              "      <td>0</td>\n",
              "      <td>0</td>\n",
              "      <td>1</td>\n",
              "      <td>0</td>\n",
              "    </tr>\n",
              "    <tr>\n",
              "      <td>4</td>\n",
              "      <td>JED012-4</td>\n",
              "      <td>1</td>\n",
              "      <td>Saturday</td>\n",
              "      <td>2011-12-31</td>\n",
              "      <td>2012</td>\n",
              "      <td>24.0</td>\n",
              "      <td>Female</td>\n",
              "      <td>Saudi</td>\n",
              "      <td>Teacher</td>\n",
              "      <td>206.0</td>\n",
              "      <td>...</td>\n",
              "      <td>0</td>\n",
              "      <td>0</td>\n",
              "      <td>0</td>\n",
              "      <td>1</td>\n",
              "      <td>1</td>\n",
              "      <td>0</td>\n",
              "      <td>0</td>\n",
              "      <td>0</td>\n",
              "      <td>1</td>\n",
              "      <td>0</td>\n",
              "    </tr>\n",
              "    <tr>\n",
              "      <td>5</td>\n",
              "      <td>JED012-5</td>\n",
              "      <td>1</td>\n",
              "      <td>Saturday</td>\n",
              "      <td>2011-12-31</td>\n",
              "      <td>2012</td>\n",
              "      <td>30.0</td>\n",
              "      <td>Male</td>\n",
              "      <td>Pakistani</td>\n",
              "      <td>Labourer</td>\n",
              "      <td>202.0</td>\n",
              "      <td>...</td>\n",
              "      <td>0</td>\n",
              "      <td>0</td>\n",
              "      <td>0</td>\n",
              "      <td>1</td>\n",
              "      <td>1</td>\n",
              "      <td>0</td>\n",
              "      <td>0</td>\n",
              "      <td>0</td>\n",
              "      <td>1</td>\n",
              "      <td>0</td>\n",
              "    </tr>\n",
              "    <tr>\n",
              "      <td>7</td>\n",
              "      <td>JED012-7</td>\n",
              "      <td>1</td>\n",
              "      <td>Saturday</td>\n",
              "      <td>2011-12-31</td>\n",
              "      <td>2012</td>\n",
              "      <td>50.0</td>\n",
              "      <td>Male</td>\n",
              "      <td>Indian</td>\n",
              "      <td>Labourer</td>\n",
              "      <td>123.0</td>\n",
              "      <td>...</td>\n",
              "      <td>0</td>\n",
              "      <td>0</td>\n",
              "      <td>0</td>\n",
              "      <td>1</td>\n",
              "      <td>1</td>\n",
              "      <td>0</td>\n",
              "      <td>0</td>\n",
              "      <td>0</td>\n",
              "      <td>1</td>\n",
              "      <td>0</td>\n",
              "    </tr>\n",
              "  </tbody>\n",
              "</table>\n",
              "<p>5 rows × 181 columns</p>\n",
              "</div>"
            ],
            "text/plain": [
              "        Investigation_Id  Week_No Investigation_Created_Day  \\\n",
              "Case_ID                                                       \n",
              "2               JED012-2        1                  Saturday   \n",
              "3               JED012-3        1                  Saturday   \n",
              "4               JED012-4        1                  Saturday   \n",
              "5               JED012-5        1                  Saturday   \n",
              "7               JED012-7        1                  Saturday   \n",
              "\n",
              "        Investigation_Created_Date_Time  Recording_Year   Age  Gender  \\\n",
              "Case_ID                                                                 \n",
              "2                            2011-12-31            2012  11.0    Male   \n",
              "3                            2011-12-31            2012  35.0    Male   \n",
              "4                            2011-12-31            2012  24.0  Female   \n",
              "5                            2011-12-31            2012  30.0    Male   \n",
              "7                            2011-12-31            2012  50.0    Male   \n",
              "\n",
              "        Nationality Occupation  Disrtict_ID  ... Area_UBA_0 Area_UBA_1  \\\n",
              "Case_ID                                      ...                         \n",
              "2             Saudi    Student          NaN  ...          0          0   \n",
              "3             Saudi        NaN        159.0  ...          0          0   \n",
              "4             Saudi    Teacher        206.0  ...          0          0   \n",
              "5         Pakistani   Labourer        202.0  ...          0          0   \n",
              "7            Indian   Labourer        123.0  ...          0          0   \n",
              "\n",
              "         Area_UBA_2  Area_UBA_3  Area_UBA_4  Water_Area_0 Water_Area_1  \\\n",
              "Case_ID                                                                  \n",
              "2                 0           0           1             0            0   \n",
              "3                 0           1           0             0            0   \n",
              "4                 0           1           1             0            0   \n",
              "5                 0           1           1             0            0   \n",
              "7                 0           1           1             0            0   \n",
              "\n",
              "        Water_Area_2  Water_Area_3 Water_Area_4  \n",
              "Case_ID                                          \n",
              "2                  0             0            1  \n",
              "3                  0             1            0  \n",
              "4                  0             1            0  \n",
              "5                  0             1            0  \n",
              "7                  0             1            0  \n",
              "\n",
              "[5 rows x 181 columns]"
            ]
          },
          "metadata": {
            "tags": []
          },
          "execution_count": 6
        }
      ]
    },
    {
      "cell_type": "markdown",
      "metadata": {
        "id": "nb1YWj46A5Wl"
      },
      "source": [
        "#### Varibale selection"
      ]
    },
    {
      "cell_type": "markdown",
      "metadata": {
        "id": "nMy3jJsYA5Wl"
      },
      "source": [
        "#### Removing few columns which won't have much use"
      ]
    },
    {
      "cell_type": "code",
      "metadata": {
        "colab": {
          "base_uri": "https://localhost:8080/"
        },
        "id": "N4hP4sfoA5Wl",
        "outputId": "5e7f59bc-23d2-4b66-9cb4-57581f585315"
      },
      "source": [
        "print(data.columns)"
      ],
      "execution_count": null,
      "outputs": [
        {
          "output_type": "stream",
          "text": [
            "Index(['Investigation_Id', 'Week_No', 'Investigation_Created_Day',\n",
            "       'Investigation_Created_Date_Time', 'Recording_Year', 'Age', 'Gender',\n",
            "       'Nationality', 'Occupation', 'Disrtict_ID',\n",
            "       ...\n",
            "       'Area_UBA_0', 'Area_UBA_1', 'Area_UBA_2', 'Area_UBA_3', 'Area_UBA_4',\n",
            "       'Water_Area_0', 'Water_Area_1', 'Water_Area_2', 'Water_Area_3',\n",
            "       'Water_Area_4'],\n",
            "      dtype='object', length=181)\n"
          ],
          "name": "stdout"
        }
      ]
    },
    {
      "cell_type": "code",
      "metadata": {
        "colab": {
          "base_uri": "https://localhost:8080/"
        },
        "id": "-NqHSxM_A5Wm",
        "outputId": "2f5098a5-a2b6-480e-8b4b-94e29788385a"
      },
      "source": [
        "data.shape"
      ],
      "execution_count": null,
      "outputs": [
        {
          "output_type": "execute_result",
          "data": {
            "text/plain": [
              "(1790, 181)"
            ]
          },
          "metadata": {
            "tags": []
          },
          "execution_count": 8
        }
      ]
    },
    {
      "cell_type": "code",
      "metadata": {
        "id": "eDN4HuQOA5Wn"
      },
      "source": [
        "data_with_missing_values = data[['Week_No', 'Recording_Year','Age','Gender', 'Nationality', 'Occupation','Municipality_ID','Hospital_Name','The_Final_Diagnosis','Population', 'Temperature','Precipitation', 'Wind_Speed', 'Humidity', 'Elevation', 'Area_CL', 'Area_HC', 'Area_TC', 'Area_SV', 'Urban_Area', 'Bare_Area', 'Area_CBA', 'Area_UBA', 'Water_Area']]\n",
        "#here we are selecting few columns "
      ],
      "execution_count": null,
      "outputs": []
    },
    {
      "cell_type": "code",
      "metadata": {
        "colab": {
          "base_uri": "https://localhost:8080/",
          "height": 431
        },
        "id": "YGEDntYVA5Wp",
        "outputId": "ff4da253-3e0a-4919-832b-986bd14cabde"
      },
      "source": [
        "data_with_missing_values # displaying selected rows"
      ],
      "execution_count": null,
      "outputs": [
        {
          "output_type": "execute_result",
          "data": {
            "text/html": [
              "<div>\n",
              "<style scoped>\n",
              "    .dataframe tbody tr th:only-of-type {\n",
              "        vertical-align: middle;\n",
              "    }\n",
              "\n",
              "    .dataframe tbody tr th {\n",
              "        vertical-align: top;\n",
              "    }\n",
              "\n",
              "    .dataframe thead th {\n",
              "        text-align: right;\n",
              "    }\n",
              "</style>\n",
              "<table border=\"1\" class=\"dataframe\">\n",
              "  <thead>\n",
              "    <tr style=\"text-align: right;\">\n",
              "      <th></th>\n",
              "      <th>Week_No</th>\n",
              "      <th>Recording_Year</th>\n",
              "      <th>Age</th>\n",
              "      <th>Gender</th>\n",
              "      <th>Nationality</th>\n",
              "      <th>Occupation</th>\n",
              "      <th>Municipality_ID</th>\n",
              "      <th>Hospital_Name</th>\n",
              "      <th>The_Final_Diagnosis</th>\n",
              "      <th>Population</th>\n",
              "      <th>...</th>\n",
              "      <th>Elevation</th>\n",
              "      <th>Area_CL</th>\n",
              "      <th>Area_HC</th>\n",
              "      <th>Area_TC</th>\n",
              "      <th>Area_SV</th>\n",
              "      <th>Urban_Area</th>\n",
              "      <th>Bare_Area</th>\n",
              "      <th>Area_CBA</th>\n",
              "      <th>Area_UBA</th>\n",
              "      <th>Water_Area</th>\n",
              "    </tr>\n",
              "    <tr>\n",
              "      <th>Case_ID</th>\n",
              "      <th></th>\n",
              "      <th></th>\n",
              "      <th></th>\n",
              "      <th></th>\n",
              "      <th></th>\n",
              "      <th></th>\n",
              "      <th></th>\n",
              "      <th></th>\n",
              "      <th></th>\n",
              "      <th></th>\n",
              "      <th></th>\n",
              "      <th></th>\n",
              "      <th></th>\n",
              "      <th></th>\n",
              "      <th></th>\n",
              "      <th></th>\n",
              "      <th></th>\n",
              "      <th></th>\n",
              "      <th></th>\n",
              "      <th></th>\n",
              "      <th></th>\n",
              "    </tr>\n",
              "  </thead>\n",
              "  <tbody>\n",
              "    <tr>\n",
              "      <td>2</td>\n",
              "      <td>1</td>\n",
              "      <td>2012</td>\n",
              "      <td>11.0</td>\n",
              "      <td>Male</td>\n",
              "      <td>Saudi</td>\n",
              "      <td>Student</td>\n",
              "      <td>NaN</td>\n",
              "      <td>International Medical Center</td>\n",
              "      <td>Suspect</td>\n",
              "      <td>NaN</td>\n",
              "      <td>...</td>\n",
              "      <td>NaN</td>\n",
              "      <td>NaN</td>\n",
              "      <td>NaN</td>\n",
              "      <td>NaN</td>\n",
              "      <td>NaN</td>\n",
              "      <td>NaN</td>\n",
              "      <td>NaN</td>\n",
              "      <td>NaN</td>\n",
              "      <td>NaN</td>\n",
              "      <td>NaN</td>\n",
              "    </tr>\n",
              "    <tr>\n",
              "      <td>3</td>\n",
              "      <td>1</td>\n",
              "      <td>2012</td>\n",
              "      <td>35.0</td>\n",
              "      <td>Male</td>\n",
              "      <td>Saudi</td>\n",
              "      <td>NaN</td>\n",
              "      <td>1.0</td>\n",
              "      <td>International Medical Center</td>\n",
              "      <td>Suspect</td>\n",
              "      <td>16867.0</td>\n",
              "      <td>...</td>\n",
              "      <td>15.321481</td>\n",
              "      <td>0.0</td>\n",
              "      <td>1170000.0</td>\n",
              "      <td>0.0</td>\n",
              "      <td>0.0</td>\n",
              "      <td>4050000.0</td>\n",
              "      <td>180000.0</td>\n",
              "      <td>0.0</td>\n",
              "      <td>1440000.0</td>\n",
              "      <td>0.0</td>\n",
              "    </tr>\n",
              "    <tr>\n",
              "      <td>4</td>\n",
              "      <td>1</td>\n",
              "      <td>2012</td>\n",
              "      <td>24.0</td>\n",
              "      <td>Female</td>\n",
              "      <td>Saudi</td>\n",
              "      <td>Teacher</td>\n",
              "      <td>11.0</td>\n",
              "      <td>International Medical Center</td>\n",
              "      <td>Suspect</td>\n",
              "      <td>0.0</td>\n",
              "      <td>...</td>\n",
              "      <td>0.000000</td>\n",
              "      <td>0.0</td>\n",
              "      <td>0.0</td>\n",
              "      <td>0.0</td>\n",
              "      <td>0.0</td>\n",
              "      <td>8460000.0</td>\n",
              "      <td>0.0</td>\n",
              "      <td>0.0</td>\n",
              "      <td>0.0</td>\n",
              "      <td>0.0</td>\n",
              "    </tr>\n",
              "    <tr>\n",
              "      <td>5</td>\n",
              "      <td>1</td>\n",
              "      <td>2012</td>\n",
              "      <td>30.0</td>\n",
              "      <td>Male</td>\n",
              "      <td>Pakistani</td>\n",
              "      <td>Labourer</td>\n",
              "      <td>1.0</td>\n",
              "      <td>Jeddah National Hospital</td>\n",
              "      <td>Confirmed</td>\n",
              "      <td>0.0</td>\n",
              "      <td>...</td>\n",
              "      <td>3.353018</td>\n",
              "      <td>180000.0</td>\n",
              "      <td>90000.0</td>\n",
              "      <td>0.0</td>\n",
              "      <td>0.0</td>\n",
              "      <td>4860000.0</td>\n",
              "      <td>0.0</td>\n",
              "      <td>0.0</td>\n",
              "      <td>0.0</td>\n",
              "      <td>0.0</td>\n",
              "    </tr>\n",
              "    <tr>\n",
              "      <td>7</td>\n",
              "      <td>1</td>\n",
              "      <td>2012</td>\n",
              "      <td>50.0</td>\n",
              "      <td>Male</td>\n",
              "      <td>Indian</td>\n",
              "      <td>Labourer</td>\n",
              "      <td>5.0</td>\n",
              "      <td>Jeddah National Hospital</td>\n",
              "      <td>Confirmed</td>\n",
              "      <td>2692.0</td>\n",
              "      <td>...</td>\n",
              "      <td>18.407518</td>\n",
              "      <td>0.0</td>\n",
              "      <td>0.0</td>\n",
              "      <td>0.0</td>\n",
              "      <td>0.0</td>\n",
              "      <td>1800000.0</td>\n",
              "      <td>0.0</td>\n",
              "      <td>0.0</td>\n",
              "      <td>0.0</td>\n",
              "      <td>0.0</td>\n",
              "    </tr>\n",
              "    <tr>\n",
              "      <td>...</td>\n",
              "      <td>...</td>\n",
              "      <td>...</td>\n",
              "      <td>...</td>\n",
              "      <td>...</td>\n",
              "      <td>...</td>\n",
              "      <td>...</td>\n",
              "      <td>...</td>\n",
              "      <td>...</td>\n",
              "      <td>...</td>\n",
              "      <td>...</td>\n",
              "      <td>...</td>\n",
              "      <td>...</td>\n",
              "      <td>...</td>\n",
              "      <td>...</td>\n",
              "      <td>...</td>\n",
              "      <td>...</td>\n",
              "      <td>...</td>\n",
              "      <td>...</td>\n",
              "      <td>...</td>\n",
              "      <td>...</td>\n",
              "      <td>...</td>\n",
              "    </tr>\n",
              "    <tr>\n",
              "      <td>1923</td>\n",
              "      <td>52</td>\n",
              "      <td>2012</td>\n",
              "      <td>59.0</td>\n",
              "      <td>Male</td>\n",
              "      <td>Yamani</td>\n",
              "      <td>NaN</td>\n",
              "      <td>NaN</td>\n",
              "      <td>Dr. Soliman Fakeeh Hospital</td>\n",
              "      <td>Confirmed</td>\n",
              "      <td>NaN</td>\n",
              "      <td>...</td>\n",
              "      <td>NaN</td>\n",
              "      <td>NaN</td>\n",
              "      <td>NaN</td>\n",
              "      <td>NaN</td>\n",
              "      <td>NaN</td>\n",
              "      <td>NaN</td>\n",
              "      <td>NaN</td>\n",
              "      <td>NaN</td>\n",
              "      <td>NaN</td>\n",
              "      <td>NaN</td>\n",
              "    </tr>\n",
              "    <tr>\n",
              "      <td>1924</td>\n",
              "      <td>52</td>\n",
              "      <td>2012</td>\n",
              "      <td>11.0</td>\n",
              "      <td>Female</td>\n",
              "      <td>Saudi</td>\n",
              "      <td>Student</td>\n",
              "      <td>3.0</td>\n",
              "      <td>New Al Jedaani Hospital</td>\n",
              "      <td>Confirmed</td>\n",
              "      <td>25650.0</td>\n",
              "      <td>...</td>\n",
              "      <td>19.649851</td>\n",
              "      <td>0.0</td>\n",
              "      <td>0.0</td>\n",
              "      <td>0.0</td>\n",
              "      <td>0.0</td>\n",
              "      <td>4770000.0</td>\n",
              "      <td>2160000.0</td>\n",
              "      <td>0.0</td>\n",
              "      <td>0.0</td>\n",
              "      <td>360000.0</td>\n",
              "    </tr>\n",
              "    <tr>\n",
              "      <td>1925</td>\n",
              "      <td>52</td>\n",
              "      <td>2012</td>\n",
              "      <td>25.0</td>\n",
              "      <td>Male</td>\n",
              "      <td>Pakistani</td>\n",
              "      <td>Labourer</td>\n",
              "      <td>1.0</td>\n",
              "      <td>Dr. Khalid Idriss Hospital</td>\n",
              "      <td>Confirmed</td>\n",
              "      <td>16282.0</td>\n",
              "      <td>...</td>\n",
              "      <td>12.079623</td>\n",
              "      <td>0.0</td>\n",
              "      <td>0.0</td>\n",
              "      <td>0.0</td>\n",
              "      <td>0.0</td>\n",
              "      <td>4140000.0</td>\n",
              "      <td>0.0</td>\n",
              "      <td>0.0</td>\n",
              "      <td>270000.0</td>\n",
              "      <td>180000.0</td>\n",
              "    </tr>\n",
              "    <tr>\n",
              "      <td>1927</td>\n",
              "      <td>52</td>\n",
              "      <td>2012</td>\n",
              "      <td>25.0</td>\n",
              "      <td>Male</td>\n",
              "      <td>Egyptian</td>\n",
              "      <td>Accountant</td>\n",
              "      <td>7.0</td>\n",
              "      <td>Dr.Hassan Al Ghazzawi Hospital</td>\n",
              "      <td>Confirmed</td>\n",
              "      <td>108.0</td>\n",
              "      <td>...</td>\n",
              "      <td>37.441355</td>\n",
              "      <td>0.0</td>\n",
              "      <td>0.0</td>\n",
              "      <td>0.0</td>\n",
              "      <td>0.0</td>\n",
              "      <td>5760000.0</td>\n",
              "      <td>0.0</td>\n",
              "      <td>0.0</td>\n",
              "      <td>0.0</td>\n",
              "      <td>0.0</td>\n",
              "    </tr>\n",
              "    <tr>\n",
              "      <td>1928</td>\n",
              "      <td>52</td>\n",
              "      <td>2012</td>\n",
              "      <td>38.0</td>\n",
              "      <td>Male</td>\n",
              "      <td>Somali</td>\n",
              "      <td>NaN</td>\n",
              "      <td>NaN</td>\n",
              "      <td>King Abdulaziz Hospital</td>\n",
              "      <td>Suspect</td>\n",
              "      <td>NaN</td>\n",
              "      <td>...</td>\n",
              "      <td>NaN</td>\n",
              "      <td>NaN</td>\n",
              "      <td>NaN</td>\n",
              "      <td>NaN</td>\n",
              "      <td>NaN</td>\n",
              "      <td>NaN</td>\n",
              "      <td>NaN</td>\n",
              "      <td>NaN</td>\n",
              "      <td>NaN</td>\n",
              "      <td>NaN</td>\n",
              "    </tr>\n",
              "  </tbody>\n",
              "</table>\n",
              "<p>1790 rows × 24 columns</p>\n",
              "</div>"
            ],
            "text/plain": [
              "         Week_No  Recording_Year   Age  Gender Nationality  Occupation  \\\n",
              "Case_ID                                                                  \n",
              "2              1            2012  11.0    Male       Saudi     Student   \n",
              "3              1            2012  35.0    Male       Saudi         NaN   \n",
              "4              1            2012  24.0  Female       Saudi     Teacher   \n",
              "5              1            2012  30.0    Male   Pakistani    Labourer   \n",
              "7              1            2012  50.0    Male      Indian    Labourer   \n",
              "...          ...             ...   ...     ...         ...         ...   \n",
              "1923          52            2012  59.0    Male      Yamani         NaN   \n",
              "1924          52            2012  11.0  Female       Saudi     Student   \n",
              "1925          52            2012  25.0    Male   Pakistani    Labourer   \n",
              "1927          52            2012  25.0    Male    Egyptian  Accountant   \n",
              "1928          52            2012  38.0    Male      Somali         NaN   \n",
              "\n",
              "         Municipality_ID                   Hospital_Name The_Final_Diagnosis  \\\n",
              "Case_ID                                                                        \n",
              "2                    NaN    International Medical Center             Suspect   \n",
              "3                    1.0    International Medical Center             Suspect   \n",
              "4                   11.0    International Medical Center             Suspect   \n",
              "5                    1.0        Jeddah National Hospital           Confirmed   \n",
              "7                    5.0        Jeddah National Hospital           Confirmed   \n",
              "...                  ...                             ...                 ...   \n",
              "1923                 NaN     Dr. Soliman Fakeeh Hospital           Confirmed   \n",
              "1924                 3.0         New Al Jedaani Hospital           Confirmed   \n",
              "1925                 1.0      Dr. Khalid Idriss Hospital           Confirmed   \n",
              "1927                 7.0  Dr.Hassan Al Ghazzawi Hospital           Confirmed   \n",
              "1928                 NaN         King Abdulaziz Hospital             Suspect   \n",
              "\n",
              "         Population  ...  Elevation   Area_CL    Area_HC  Area_TC  Area_SV  \\\n",
              "Case_ID              ...                                                     \n",
              "2               NaN  ...        NaN       NaN        NaN      NaN      NaN   \n",
              "3           16867.0  ...  15.321481       0.0  1170000.0      0.0      0.0   \n",
              "4               0.0  ...   0.000000       0.0        0.0      0.0      0.0   \n",
              "5               0.0  ...   3.353018  180000.0    90000.0      0.0      0.0   \n",
              "7            2692.0  ...  18.407518       0.0        0.0      0.0      0.0   \n",
              "...             ...  ...        ...       ...        ...      ...      ...   \n",
              "1923            NaN  ...        NaN       NaN        NaN      NaN      NaN   \n",
              "1924        25650.0  ...  19.649851       0.0        0.0      0.0      0.0   \n",
              "1925        16282.0  ...  12.079623       0.0        0.0      0.0      0.0   \n",
              "1927          108.0  ...  37.441355       0.0        0.0      0.0      0.0   \n",
              "1928            NaN  ...        NaN       NaN        NaN      NaN      NaN   \n",
              "\n",
              "         Urban_Area  Bare_Area  Area_CBA   Area_UBA  Water_Area  \n",
              "Case_ID                                                          \n",
              "2               NaN        NaN       NaN        NaN         NaN  \n",
              "3         4050000.0   180000.0       0.0  1440000.0         0.0  \n",
              "4         8460000.0        0.0       0.0        0.0         0.0  \n",
              "5         4860000.0        0.0       0.0        0.0         0.0  \n",
              "7         1800000.0        0.0       0.0        0.0         0.0  \n",
              "...             ...        ...       ...        ...         ...  \n",
              "1923            NaN        NaN       NaN        NaN         NaN  \n",
              "1924      4770000.0  2160000.0       0.0        0.0    360000.0  \n",
              "1925      4140000.0        0.0       0.0   270000.0    180000.0  \n",
              "1927      5760000.0        0.0       0.0        0.0         0.0  \n",
              "1928            NaN        NaN       NaN        NaN         NaN  \n",
              "\n",
              "[1790 rows x 24 columns]"
            ]
          },
          "metadata": {
            "tags": []
          },
          "execution_count": 10
        }
      ]
    },
    {
      "cell_type": "code",
      "metadata": {
        "colab": {
          "base_uri": "https://localhost:8080/"
        },
        "id": "FJn81ReQA5Wp",
        "outputId": "67114a56-2171-4e07-ce03-c68b608c1bf9"
      },
      "source": [
        "data_with_missing_values.isna().any() # check for columns with nan values in our data "
      ],
      "execution_count": null,
      "outputs": [
        {
          "output_type": "execute_result",
          "data": {
            "text/plain": [
              "Week_No                False\n",
              "Recording_Year         False\n",
              "Age                     True\n",
              "Gender                  True\n",
              "Nationality             True\n",
              "Occupation              True\n",
              "Municipality_ID         True\n",
              "Hospital_Name          False\n",
              "The_Final_Diagnosis     True\n",
              "Population              True\n",
              "Temperature             True\n",
              "Precipitation           True\n",
              "Wind_Speed              True\n",
              "Humidity                True\n",
              "Elevation               True\n",
              "Area_CL                 True\n",
              "Area_HC                 True\n",
              "Area_TC                 True\n",
              "Area_SV                 True\n",
              "Urban_Area              True\n",
              "Bare_Area               True\n",
              "Area_CBA                True\n",
              "Area_UBA                True\n",
              "Water_Area              True\n",
              "dtype: bool"
            ]
          },
          "metadata": {
            "tags": []
          },
          "execution_count": 11
        }
      ]
    },
    {
      "cell_type": "code",
      "metadata": {
        "id": "ByvgYbvxA5Wq"
      },
      "source": [
        "selected_data=data_with_missing_values.fillna(0) # initially filling the missing values with 0's."
      ],
      "execution_count": null,
      "outputs": []
    },
    {
      "cell_type": "code",
      "metadata": {
        "colab": {
          "base_uri": "https://localhost:8080/"
        },
        "id": "poJySaI4A5Wq",
        "outputId": "ab83c975-183d-4590-f415-9e09d03f2c0e"
      },
      "source": [
        "selected_data.isna().any() #checking for nan values afterr filling with zero's"
      ],
      "execution_count": null,
      "outputs": [
        {
          "output_type": "execute_result",
          "data": {
            "text/plain": [
              "Week_No                False\n",
              "Recording_Year         False\n",
              "Age                    False\n",
              "Gender                 False\n",
              "Nationality            False\n",
              "Occupation             False\n",
              "Municipality_ID        False\n",
              "Hospital_Name          False\n",
              "The_Final_Diagnosis    False\n",
              "Population             False\n",
              "Temperature            False\n",
              "Precipitation          False\n",
              "Wind_Speed             False\n",
              "Humidity               False\n",
              "Elevation              False\n",
              "Area_CL                False\n",
              "Area_HC                False\n",
              "Area_TC                False\n",
              "Area_SV                False\n",
              "Urban_Area             False\n",
              "Bare_Area              False\n",
              "Area_CBA               False\n",
              "Area_UBA               False\n",
              "Water_Area             False\n",
              "dtype: bool"
            ]
          },
          "metadata": {
            "tags": []
          },
          "execution_count": 13
        }
      ]
    },
    {
      "cell_type": "code",
      "metadata": {
        "id": "ygJBB3G7A5Wq"
      },
      "source": [
        "# converting the categorical labels to numerical values\n",
        "from sklearn.feature_extraction.text import CountVectorizer\n",
        "def encode_categorical_to_numerical(category):\n",
        "    vectorizer = CountVectorizer(binary=True)\n",
        "    X = vectorizer.fit_transform(category.astype('str')).toarray()\n",
        "    feature_names = vectorizer.get_feature_names()\n",
        "    return feature_names,X # fitting and transform the categories for numerical values"
      ],
      "execution_count": null,
      "outputs": []
    },
    {
      "cell_type": "code",
      "metadata": {
        "id": "Dl6x9AP2A5Wr"
      },
      "source": [
        "feature_names_gender,vectorized_Gender = encode_categorical_to_numerical(selected_data.Gender)"
      ],
      "execution_count": null,
      "outputs": []
    },
    {
      "cell_type": "code",
      "metadata": {
        "colab": {
          "base_uri": "https://localhost:8080/"
        },
        "id": "e-sA-EOnA5Wr",
        "outputId": "08b9d860-2e9e-4cb5-98d3-a838c3d559a9"
      },
      "source": [
        "feature_names_gender"
      ],
      "execution_count": null,
      "outputs": [
        {
          "output_type": "execute_result",
          "data": {
            "text/plain": [
              "['female', 'male']"
            ]
          },
          "metadata": {
            "tags": []
          },
          "execution_count": 16
        }
      ]
    },
    {
      "cell_type": "code",
      "metadata": {
        "colab": {
          "base_uri": "https://localhost:8080/"
        },
        "id": "jm6ICWICA5Ws",
        "outputId": "e3a25eba-d1b1-41a1-be22-bc25f08ef7db"
      },
      "source": [
        "vectorized_Gender[:5]"
      ],
      "execution_count": null,
      "outputs": [
        {
          "output_type": "execute_result",
          "data": {
            "text/plain": [
              "array([[0, 1],\n",
              "       [0, 1],\n",
              "       [1, 0],\n",
              "       [0, 1],\n",
              "       [0, 1]], dtype=int64)"
            ]
          },
          "metadata": {
            "tags": []
          },
          "execution_count": 17
        }
      ]
    },
    {
      "cell_type": "code",
      "metadata": {
        "colab": {
          "base_uri": "https://localhost:8080/"
        },
        "id": "7tw68mMMA5Ws",
        "outputId": "f490ef67-422f-42aa-9e29-9283426b5de1"
      },
      "source": [
        "feature_names_Nationality,vectorized_Nationality = encode_categorical_to_numerical(selected_data.Nationality)\n",
        "print(feature_names_Nationality)"
      ],
      "execution_count": null,
      "outputs": [
        {
          "output_type": "stream",
          "text": [
            "['afghan', 'african', 'american', 'australian', 'baloch', 'bengali', 'british', 'bruneian', 'burmese', 'canadian', 'chadianian', 'chinese', 'djiboutian', 'egyptian', 'eritrean', 'ethiopian', 'filipino', 'french', 'guinean', 'indian', 'indonesian', 'iraqi', 'jordanian', 'kenyan', 'korean', 'lankan', 'lebanese', 'malaysian', 'moroccan', 'myanmar', 'nepalese', 'nigerian', 'pakistani', 'palestinian', 'qatari', 'saudi', 'somali', 'south', 'sri', 'sudanese', 'syrian', 'tanzanian', 'tunisian', 'turkish', 'yamani']\n"
          ],
          "name": "stdout"
        }
      ]
    },
    {
      "cell_type": "code",
      "metadata": {
        "colab": {
          "base_uri": "https://localhost:8080/"
        },
        "id": "8QpKLIo3A5Ws",
        "outputId": "3d39654d-31f0-423b-de6e-d8cab7bf011b"
      },
      "source": [
        "vectorized_Nationality[-5:]"
      ],
      "execution_count": null,
      "outputs": [
        {
          "output_type": "execute_result",
          "data": {
            "text/plain": [
              "array([[0, 0, 0, 0, 0, 0, 0, 0, 0, 0, 0, 0, 0, 0, 0, 0, 0, 0, 0, 0, 0, 0,\n",
              "        0, 0, 0, 0, 0, 0, 0, 0, 0, 0, 0, 0, 0, 0, 0, 0, 0, 0, 0, 0, 0, 0,\n",
              "        1],\n",
              "       [0, 0, 0, 0, 0, 0, 0, 0, 0, 0, 0, 0, 0, 0, 0, 0, 0, 0, 0, 0, 0, 0,\n",
              "        0, 0, 0, 0, 0, 0, 0, 0, 0, 0, 0, 0, 0, 1, 0, 0, 0, 0, 0, 0, 0, 0,\n",
              "        0],\n",
              "       [0, 0, 0, 0, 0, 0, 0, 0, 0, 0, 0, 0, 0, 0, 0, 0, 0, 0, 0, 0, 0, 0,\n",
              "        0, 0, 0, 0, 0, 0, 0, 0, 0, 0, 1, 0, 0, 0, 0, 0, 0, 0, 0, 0, 0, 0,\n",
              "        0],\n",
              "       [0, 0, 0, 0, 0, 0, 0, 0, 0, 0, 0, 0, 0, 1, 0, 0, 0, 0, 0, 0, 0, 0,\n",
              "        0, 0, 0, 0, 0, 0, 0, 0, 0, 0, 0, 0, 0, 0, 0, 0, 0, 0, 0, 0, 0, 0,\n",
              "        0],\n",
              "       [0, 0, 0, 0, 0, 0, 0, 0, 0, 0, 0, 0, 0, 0, 0, 0, 0, 0, 0, 0, 0, 0,\n",
              "        0, 0, 0, 0, 0, 0, 0, 0, 0, 0, 0, 0, 0, 0, 1, 0, 0, 0, 0, 0, 0, 0,\n",
              "        0]], dtype=int64)"
            ]
          },
          "metadata": {
            "tags": []
          },
          "execution_count": 19
        }
      ]
    },
    {
      "cell_type": "code",
      "metadata": {
        "colab": {
          "base_uri": "https://localhost:8080/"
        },
        "id": "Zzafv8DRA5Wt",
        "outputId": "590fbc39-40e3-4779-e00c-638a873338a9"
      },
      "source": [
        "feature_names_occupation,vectorized_Occupation = encode_categorical_to_numerical(selected_data.Occupation)\n",
        "print(feature_names_occupation)"
      ],
      "execution_count": null,
      "outputs": [
        {
          "output_type": "stream",
          "text": [
            "['accountant', 'administrative', 'administrator', 'air', 'aircraft', 'airlines', 'anesthesia', 'aramco', 'architect', 'architectural', 'bank', 'blacksmith', 'builder', 'building', 'businessman', 'carpenter', 'cashier', 'chef', 'chemical', 'child', 'cleaning', 'clerk', 'coffee', 'company', 'computer', 'condition', 'consultant', 'contracting', 'customs', 'data', 'dentist', 'department', 'dietitian', 'director', 'distributor', 'doctor', 'driver', 'education', 'educational', 'electrician', 'electricity', 'employee', 'employeein', 'engineer', 'entry', 'equipment', 'farmer', 'force', 'forwarder', 'freelancer', 'furniture', 'general', 'government', 'grocer', 'guard', 'gypsum', 'handicap', 'headmaster', 'hotel', 'housemaid', 'housewife', 'in', 'inspector', 'interior', 'journalist', 'laboratory', 'labour', 'labourer', 'lecturer', 'maintenance', 'man', 'manager', 'marketer', 'mechanical', 'merchant', 'monitor', 'muezzin', 'national', 'navigator', 'no', 'nurse', 'observer', 'of', 'office', 'officer', 'operator', 'painter', 'pastry', 'pediatrician', 'personal', 'pharmacist', 'pilot', 'plumber', 'polishing', 'private', 'product', 'production', 'programmer', 'public', 'reception', 'receptionist', 'relations', 'representative', 'resturant', 'retired', 'rrestaurant', 'safety', 'sailor', 'sales', 'salesman', 'saudi', 'school', 'seaport', 'secretary', 'sector', 'security', 'server', 'shepherd', 'smith', 'soldier', 'specialist', 'student', 'supervisor', 'surveyor', 'tailor', 'taxi', 'teacher', 'technician', 'telecome', 'the', 'tile', 'translator', 'truck', 'tv', 'university', 'upholsterer', 'visitor', 'waiter', 'warehouse', 'work', 'worker']\n"
          ],
          "name": "stdout"
        }
      ]
    },
    {
      "cell_type": "code",
      "metadata": {
        "colab": {
          "base_uri": "https://localhost:8080/"
        },
        "id": "_j9IGstnA5Wt",
        "outputId": "e24f3d1a-6a75-40bb-9f79-1816878e31ef"
      },
      "source": [
        "vectorized_Occupation[:2]"
      ],
      "execution_count": null,
      "outputs": [
        {
          "output_type": "execute_result",
          "data": {
            "text/plain": [
              "array([[0, 0, 0, 0, 0, 0, 0, 0, 0, 0, 0, 0, 0, 0, 0, 0, 0, 0, 0, 0, 0, 0,\n",
              "        0, 0, 0, 0, 0, 0, 0, 0, 0, 0, 0, 0, 0, 0, 0, 0, 0, 0, 0, 0, 0, 0,\n",
              "        0, 0, 0, 0, 0, 0, 0, 0, 0, 0, 0, 0, 0, 0, 0, 0, 0, 0, 0, 0, 0, 0,\n",
              "        0, 0, 0, 0, 0, 0, 0, 0, 0, 0, 0, 0, 0, 0, 0, 0, 0, 0, 0, 0, 0, 0,\n",
              "        0, 0, 0, 0, 0, 0, 0, 0, 0, 0, 0, 0, 0, 0, 0, 0, 0, 0, 0, 0, 0, 0,\n",
              "        0, 0, 0, 0, 0, 0, 0, 0, 0, 0, 0, 1, 0, 0, 0, 0, 0, 0, 0, 0, 0, 0,\n",
              "        0, 0, 0, 0, 0, 0, 0, 0, 0],\n",
              "       [0, 0, 0, 0, 0, 0, 0, 0, 0, 0, 0, 0, 0, 0, 0, 0, 0, 0, 0, 0, 0, 0,\n",
              "        0, 0, 0, 0, 0, 0, 0, 0, 0, 0, 0, 0, 0, 0, 0, 0, 0, 0, 0, 0, 0, 0,\n",
              "        0, 0, 0, 0, 0, 0, 0, 0, 0, 0, 0, 0, 0, 0, 0, 0, 0, 0, 0, 0, 0, 0,\n",
              "        0, 0, 0, 0, 0, 0, 0, 0, 0, 0, 0, 0, 0, 0, 0, 0, 0, 0, 0, 0, 0, 0,\n",
              "        0, 0, 0, 0, 0, 0, 0, 0, 0, 0, 0, 0, 0, 0, 0, 0, 0, 0, 0, 0, 0, 0,\n",
              "        0, 0, 0, 0, 0, 0, 0, 0, 0, 0, 0, 0, 0, 0, 0, 0, 0, 0, 0, 0, 0, 0,\n",
              "        0, 0, 0, 0, 0, 0, 0, 0, 0]], dtype=int64)"
            ]
          },
          "metadata": {
            "tags": []
          },
          "execution_count": 21
        }
      ]
    },
    {
      "cell_type": "code",
      "metadata": {
        "colab": {
          "base_uri": "https://localhost:8080/"
        },
        "id": "cuI81X2oA5Wt",
        "outputId": "5a0c8da1-09b8-44b8-d2a2-b714393557ea"
      },
      "source": [
        "feature_names_Municipality_ID,vectorized_Municipality_ID = encode_categorical_to_numerical(selected_data.Municipality_ID)\n",
        "print(feature_names_Municipality_ID)"
      ],
      "execution_count": null,
      "outputs": [
        {
          "output_type": "stream",
          "text": [
            "['10', '11', '12', '13', '14', '15']\n"
          ],
          "name": "stdout"
        }
      ]
    },
    {
      "cell_type": "code",
      "metadata": {
        "colab": {
          "base_uri": "https://localhost:8080/"
        },
        "id": "TvmjUgxAA5Wu",
        "outputId": "2231e731-e965-4008-ae92-399200d7fa43"
      },
      "source": [
        "vectorized_Municipality_ID[:2]"
      ],
      "execution_count": null,
      "outputs": [
        {
          "output_type": "execute_result",
          "data": {
            "text/plain": [
              "array([[0, 0, 0, 0, 0, 0],\n",
              "       [0, 0, 0, 0, 0, 0]], dtype=int64)"
            ]
          },
          "metadata": {
            "tags": []
          },
          "execution_count": 23
        }
      ]
    },
    {
      "cell_type": "code",
      "metadata": {
        "id": "Xk4uNkC49z_b",
        "outputId": "5015a2b5-cedb-4c51-db1a-d5b869d3e885"
      },
      "source": [
        "feature_names_The_Final_Diagnosis,vectorized_The_Final_Diagnosis = encode_categorical_to_numerical(selected_data.The_Final_Diagnosis)\n",
        "print(feature_names_The_Final_Diagnosis)"
      ],
      "execution_count": null,
      "outputs": [
        {
          "output_type": "stream",
          "text": [
            "['confirmed', 'suspect']\n"
          ],
          "name": "stdout"
        }
      ]
    },
    {
      "cell_type": "code",
      "metadata": {
        "id": "ur7VQ9CN9z_b",
        "outputId": "99f56d42-915c-46db-80d0-ffb18c06385d"
      },
      "source": [
        "vectorized_The_Final_Diagnosis[:5]"
      ],
      "execution_count": null,
      "outputs": [
        {
          "output_type": "execute_result",
          "data": {
            "text/plain": [
              "array([[0, 1],\n",
              "       [0, 1],\n",
              "       [0, 1],\n",
              "       [1, 0],\n",
              "       [1, 0]], dtype=int64)"
            ]
          },
          "metadata": {
            "tags": []
          },
          "execution_count": 25
        }
      ]
    },
    {
      "cell_type": "code",
      "metadata": {
        "id": "crbEv6Nr9z_c",
        "outputId": "3435b522-c488-41cd-b88c-b50a475d3f9f"
      },
      "source": [
        "feature_names_Week_No,vectorized_Week_No = encode_categorical_to_numerical(selected_data.Week_No)\n",
        "print(feature_names_Week_No)"
      ],
      "execution_count": null,
      "outputs": [
        {
          "output_type": "stream",
          "text": [
            "['10', '11', '12', '13', '14', '15', '16', '17', '18', '19', '20', '21', '22', '23', '24', '25', '26', '27', '28', '29', '30', '31', '32', '33', '34', '35', '36', '37', '38', '39', '40', '41', '42', '43', '44', '45', '46', '47', '48', '49', '50', '51', '52']\n"
          ],
          "name": "stdout"
        }
      ]
    },
    {
      "cell_type": "code",
      "metadata": {
        "id": "UtYCb-Fm9z_c",
        "outputId": "73def332-d798-44bd-818c-40fe75e4526f"
      },
      "source": [
        "vectorized_Week_No[:2]"
      ],
      "execution_count": null,
      "outputs": [
        {
          "output_type": "execute_result",
          "data": {
            "text/plain": [
              "array([[0, 0, 0, 0, 0, 0, 0, 0, 0, 0, 0, 0, 0, 0, 0, 0, 0, 0, 0, 0, 0, 0,\n",
              "        0, 0, 0, 0, 0, 0, 0, 0, 0, 0, 0, 0, 0, 0, 0, 0, 0, 0, 0, 0, 0],\n",
              "       [0, 0, 0, 0, 0, 0, 0, 0, 0, 0, 0, 0, 0, 0, 0, 0, 0, 0, 0, 0, 0, 0,\n",
              "        0, 0, 0, 0, 0, 0, 0, 0, 0, 0, 0, 0, 0, 0, 0, 0, 0, 0, 0, 0, 0]],\n",
              "      dtype=int64)"
            ]
          },
          "metadata": {
            "tags": []
          },
          "execution_count": 27
        }
      ]
    },
    {
      "cell_type": "code",
      "metadata": {
        "id": "DQyko4rW9z_d",
        "outputId": "d42d57e1-97fe-45da-ce8b-8ce4cba8517b"
      },
      "source": [
        "feature_names_Recording_Year,vectorized_Recording_Year = encode_categorical_to_numerical(selected_data.Recording_Year)\n",
        "print(feature_names_Recording_Year)"
      ],
      "execution_count": null,
      "outputs": [
        {
          "output_type": "stream",
          "text": [
            "['2012']\n"
          ],
          "name": "stdout"
        }
      ]
    },
    {
      "cell_type": "code",
      "metadata": {
        "id": "uiEj-Dan9z_d",
        "outputId": "a93879a9-6c4e-496e-b3cb-14536a94e15d"
      },
      "source": [
        "vectorized_Recording_Year[:2]"
      ],
      "execution_count": null,
      "outputs": [
        {
          "output_type": "execute_result",
          "data": {
            "text/plain": [
              "array([[1],\n",
              "       [1]], dtype=int64)"
            ]
          },
          "metadata": {
            "tags": []
          },
          "execution_count": 29
        }
      ]
    },
    {
      "cell_type": "code",
      "metadata": {
        "id": "VGmPPCwK9z_d",
        "outputId": "7313571f-34cc-4819-ec7b-65ef3e07ee30"
      },
      "source": [
        "feature_names_Age,vectorized_Age = encode_categorical_to_numerical(selected_data.Age)\n",
        "print(feature_names_Age)"
      ],
      "execution_count": null,
      "outputs": [
        {
          "output_type": "stream",
          "text": [
            "['08', '10', '11', '12', '13', '14', '15', '16', '17', '18', '19', '20', '21', '22', '23', '24', '25', '26', '27', '28', '29', '30', '31', '32', '33', '34', '35', '36', '37', '38', '39', '40', '41', '42', '43', '44', '45', '46', '47', '48', '49', '50', '51', '52', '53', '54', '55', '56', '57', '58', '59', '60', '61', '62', '63', '64', '65', '66', '67', '68', '69', '70', '71', '72', '73', '74', '75', '76', '77', '78', '79', '81', '82', '83', '85', '92', '93']\n"
          ],
          "name": "stdout"
        }
      ]
    },
    {
      "cell_type": "code",
      "metadata": {
        "id": "-KhZ9kxl9z_e",
        "outputId": "6e88bfc7-4d60-4684-d8dd-eb4bf994dbf1"
      },
      "source": [
        "vectorized_Age[:2]"
      ],
      "execution_count": null,
      "outputs": [
        {
          "output_type": "execute_result",
          "data": {
            "text/plain": [
              "array([[0, 0, 1, 0, 0, 0, 0, 0, 0, 0, 0, 0, 0, 0, 0, 0, 0, 0, 0, 0, 0, 0,\n",
              "        0, 0, 0, 0, 0, 0, 0, 0, 0, 0, 0, 0, 0, 0, 0, 0, 0, 0, 0, 0, 0, 0,\n",
              "        0, 0, 0, 0, 0, 0, 0, 0, 0, 0, 0, 0, 0, 0, 0, 0, 0, 0, 0, 0, 0, 0,\n",
              "        0, 0, 0, 0, 0, 0, 0, 0, 0, 0, 0],\n",
              "       [0, 0, 0, 0, 0, 0, 0, 0, 0, 0, 0, 0, 0, 0, 0, 0, 0, 0, 0, 0, 0, 0,\n",
              "        0, 0, 0, 0, 1, 0, 0, 0, 0, 0, 0, 0, 0, 0, 0, 0, 0, 0, 0, 0, 0, 0,\n",
              "        0, 0, 0, 0, 0, 0, 0, 0, 0, 0, 0, 0, 0, 0, 0, 0, 0, 0, 0, 0, 0, 0,\n",
              "        0, 0, 0, 0, 0, 0, 0, 0, 0, 0, 0]], dtype=int64)"
            ]
          },
          "metadata": {
            "tags": []
          },
          "execution_count": 31
        }
      ]
    },
    {
      "cell_type": "code",
      "metadata": {
        "id": "NdZ6Ftlt9z_e",
        "outputId": "5f56f199-6c82-49ed-e6db-2d1920de1a90"
      },
      "source": [
        "feature_names_Hospital_Name,vectorized_Hospital_Name = encode_categorical_to_numerical(selected_data.Hospital_Name)\n",
        "print(feature_names_Hospital_Name)"
      ],
      "execution_count": null,
      "outputs": [
        {
          "output_type": "stream",
          "text": [
            "['abdulaziz', 'abeer', 'abuzinadh', 'al', 'and', 'andalusia', 'armed', 'aziziyah', 'badruddin', 'bagedo', 'bakhsh', 'bawadi', 'bin', 'bugshan', 'center', 'children', 'city', 'clinic', 'clinics', 'college', 'diagnostic', 'doctors', 'dr', 'east', 'erfan', 'essa', 'fahad', 'fakeeh', 'for', 'forces', 'general', 'german', 'ghazzawi', 'gnp', 'hai', 'hala', 'hamrah', 'hassan', 'hayat', 'health', 'highway', 'hospital', 'ibn', 'idriss', 'international', 'islam', 'jamea', 'jedaani', 'jeddah', 'khalid', 'king', 'laden', 'lith', 'madain', 'mahjar', 'maternity', 'medical', 'mostaqbal', 'national', 'new', 'of', 'phc', 'polyclinic', 'quds', 'qwizain', 'rabigh', 'saba', 'saud', 'saudi', 'sciences', 'sharq', 'sina', 'soliman', 'thaghr', 'the', 'united', 'university', 'zahra', 'الطبي', 'الكمال', 'بجده', 'عيادات', 'مجمع']\n"
          ],
          "name": "stdout"
        }
      ]
    },
    {
      "cell_type": "code",
      "metadata": {
        "colab": {
          "base_uri": "https://localhost:8080/"
        },
        "id": "5NTSkeFHA5Wu",
        "outputId": "0a585f8c-3078-4823-8314-066860c416a0"
      },
      "source": [
        "vectorized_Hospital_Name[:2]"
      ],
      "execution_count": null,
      "outputs": [
        {
          "output_type": "execute_result",
          "data": {
            "text/plain": [
              "array([[0, 0, 0, 0, 0, 0, 0, 0, 0, 0, 0, 0, 0, 0, 1, 0, 0, 0, 0, 0, 0, 0,\n",
              "        0, 0, 0, 0, 0, 0, 0, 0, 0, 0, 0, 0, 0, 0, 0, 0, 0, 0, 0, 0, 0, 0,\n",
              "        1, 0, 0, 0, 0, 0, 0, 0, 0, 0, 0, 0, 1, 0, 0, 0, 0, 0, 0, 0, 0, 0,\n",
              "        0, 0, 0, 0, 0, 0, 0, 0, 0, 0, 0, 0, 0, 0, 0, 0, 0],\n",
              "       [0, 0, 0, 0, 0, 0, 0, 0, 0, 0, 0, 0, 0, 0, 1, 0, 0, 0, 0, 0, 0, 0,\n",
              "        0, 0, 0, 0, 0, 0, 0, 0, 0, 0, 0, 0, 0, 0, 0, 0, 0, 0, 0, 0, 0, 0,\n",
              "        1, 0, 0, 0, 0, 0, 0, 0, 0, 0, 0, 0, 1, 0, 0, 0, 0, 0, 0, 0, 0, 0,\n",
              "        0, 0, 0, 0, 0, 0, 0, 0, 0, 0, 0, 0, 0, 0, 0, 0, 0]], dtype=int64)"
            ]
          },
          "metadata": {
            "tags": []
          },
          "execution_count": 33
        }
      ]
    },
    {
      "cell_type": "code",
      "metadata": {
        "id": "HdXs8kys9z_f",
        "outputId": "c4417635-41b6-494b-bff0-cb1605d70577"
      },
      "source": [
        "feature_names_Population,vectorized_Population = encode_categorical_to_numerical(selected_data.Population)\n",
        "print(feature_names_Population)"
      ],
      "execution_count": null,
      "outputs": [
        {
          "output_type": "stream",
          "text": [
            "['108', '112174', '113306', '11344', '120', '12092', '12170', '1245', '13', '13702', '142542', '14857', '156449', '157598', '16242', '16282', '16653', '16867', '1751', '1756', '17607', '180786', '1847', '1895', '19', '2043', '207', '21', '218169', '21959', '237', '23966', '2499', '251', '25166', '25650', '2672', '26915', '2692', '27092', '2896', '31', '311', '3294', '33', '34609', '34966', '3631', '37836', '40', '4330', '44726', '46040', '46396', '47271', '483', '51174', '513', '52311', '53558', '53983', '570', '69', '69261', '7846', '81526', '8328', '857', '86905', '88', '9153', '9159', '92', '95383', '9820', '985']\n"
          ],
          "name": "stdout"
        }
      ]
    },
    {
      "cell_type": "code",
      "metadata": {
        "id": "saXrrv1V9z_f",
        "outputId": "2fea51fe-073d-4984-f5d5-23717d747485"
      },
      "source": [
        "vectorized_Population[:2]"
      ],
      "execution_count": null,
      "outputs": [
        {
          "output_type": "execute_result",
          "data": {
            "text/plain": [
              "array([[0, 0, 0, 0, 0, 0, 0, 0, 0, 0, 0, 0, 0, 0, 0, 0, 0, 0, 0, 0, 0, 0,\n",
              "        0, 0, 0, 0, 0, 0, 0, 0, 0, 0, 0, 0, 0, 0, 0, 0, 0, 0, 0, 0, 0, 0,\n",
              "        0, 0, 0, 0, 0, 0, 0, 0, 0, 0, 0, 0, 0, 0, 0, 0, 0, 0, 0, 0, 0, 0,\n",
              "        0, 0, 0, 0, 0, 0, 0, 0, 0, 0],\n",
              "       [0, 0, 0, 0, 0, 0, 0, 0, 0, 0, 0, 0, 0, 0, 0, 0, 0, 1, 0, 0, 0, 0,\n",
              "        0, 0, 0, 0, 0, 0, 0, 0, 0, 0, 0, 0, 0, 0, 0, 0, 0, 0, 0, 0, 0, 0,\n",
              "        0, 0, 0, 0, 0, 0, 0, 0, 0, 0, 0, 0, 0, 0, 0, 0, 0, 0, 0, 0, 0, 0,\n",
              "        0, 0, 0, 0, 0, 0, 0, 0, 0, 0]], dtype=int64)"
            ]
          },
          "metadata": {
            "tags": []
          },
          "execution_count": 35
        }
      ]
    },
    {
      "cell_type": "code",
      "metadata": {
        "id": "xApBaevP9z_g",
        "outputId": "1103a22f-506c-48c7-d4ea-94aaf47f0b32"
      },
      "source": [
        "feature_names_Temperature,vectorized_Temperature = encode_categorical_to_numerical(selected_data.Temperature)\n",
        "print(feature_names_Temperature)"
      ],
      "execution_count": null,
      "outputs": [
        {
          "output_type": "stream",
          "text": [
            "['007019', '007965', '02417', '028595', '045288', '082611', '107493', '127399', '157257', '182288', '198975', '206702', '240692', '28241', '29', '309031', '362274', '37113', '378044', '382683', '383301', '389539', '390453', '406555', '473594']\n"
          ],
          "name": "stdout"
        }
      ]
    },
    {
      "cell_type": "code",
      "metadata": {
        "id": "TPoLoctR9z_g",
        "outputId": "d547fcc1-0c5e-4618-ecd9-8cfbc4c0be6e"
      },
      "source": [
        "vectorized_Temperature[:2]"
      ],
      "execution_count": null,
      "outputs": [
        {
          "output_type": "execute_result",
          "data": {
            "text/plain": [
              "array([[0, 0, 0, 0, 0, 0, 0, 0, 0, 0, 0, 0, 0, 0, 0, 0, 0, 0, 0, 0, 0, 0,\n",
              "        0, 0, 0],\n",
              "       [0, 0, 0, 0, 0, 0, 0, 0, 1, 0, 0, 0, 0, 0, 1, 0, 0, 0, 0, 0, 0, 0,\n",
              "        0, 0, 0]], dtype=int64)"
            ]
          },
          "metadata": {
            "tags": []
          },
          "execution_count": 37
        }
      ]
    },
    {
      "cell_type": "code",
      "metadata": {
        "id": "1-m89AUH9z_g",
        "outputId": "b396885c-8ed4-4d29-bdd8-ce7f932afb06"
      },
      "source": [
        "feature_names_Precipitation,vectorized_Precipitation = encode_categorical_to_numerical(selected_data.Precipitation)\n",
        "print(feature_names_Precipitation)"
      ],
      "execution_count": null,
      "outputs": [
        {
          "output_type": "stream",
          "text": [
            "['028113', '028908', '058145', '069832', '097722', '098014', '104667', '116586', '126868', '146215', '153921', '15669', '172844', '176134', '223894', '23', '230363', '230902', '24', '246665', '259192', '261517', '27', '28', '29', '30', '308702', '31', '314271', '32', '323867', '33', '34', '345681', '35', '353358', '36', '37', '38', '39', '39601', '402952', '404003', '41', '410358', '42', '43', '43113', '44', '449595', '45', '46', '461029', '47', '48', '486088', '51', '52', '53', '56', '563114', '577182', '592718', '592844', '602154', '60933', '63497', '654388', '655512', '658716', '659583', '665652', '672628', '682117', '725638', '734004', '758033', '767144', '807707', '811268', '827298', '832464', '853813', '865264', '922517', '937359', '955008', '977188', '977359', '998976']\n"
          ],
          "name": "stdout"
        }
      ]
    },
    {
      "cell_type": "code",
      "metadata": {
        "id": "D7q36b6n9z_h",
        "outputId": "164b9c83-03d8-4ac3-9018-bc6633a43329"
      },
      "source": [
        "vectorized_Precipitation[:2]"
      ],
      "execution_count": null,
      "outputs": [
        {
          "output_type": "execute_result",
          "data": {
            "text/plain": [
              "array([[0, 0, 0, 0, 0, 0, 0, 0, 0, 0, 0, 0, 0, 0, 0, 0, 0, 0, 0, 0, 0, 0,\n",
              "        0, 0, 0, 0, 0, 0, 0, 0, 0, 0, 0, 0, 0, 0, 0, 0, 0, 0, 0, 0, 0, 0,\n",
              "        0, 0, 0, 0, 0, 0, 0, 0, 0, 0, 0, 0, 0, 0, 0, 0, 0, 0, 0, 0, 0, 0,\n",
              "        0, 0, 0, 0, 0, 0, 0, 0, 0, 0, 0, 0, 0, 0, 0, 0, 0, 0, 0, 0, 0, 0,\n",
              "        0, 0],\n",
              "       [0, 0, 0, 0, 0, 0, 0, 0, 0, 0, 0, 0, 0, 0, 0, 0, 0, 0, 0, 0, 0, 0,\n",
              "        0, 0, 1, 0, 0, 0, 0, 0, 0, 0, 0, 0, 0, 0, 0, 0, 0, 0, 0, 0, 0, 0,\n",
              "        0, 0, 0, 0, 0, 0, 0, 0, 0, 0, 0, 0, 0, 0, 0, 0, 0, 0, 0, 0, 0, 0,\n",
              "        0, 0, 0, 0, 0, 0, 0, 0, 0, 0, 0, 0, 0, 0, 0, 1, 0, 0, 0, 0, 0, 0,\n",
              "        0, 0]], dtype=int64)"
            ]
          },
          "metadata": {
            "tags": []
          },
          "execution_count": 39
        }
      ]
    },
    {
      "cell_type": "code",
      "metadata": {
        "id": "h7xPfW789z_h",
        "outputId": "039534f4-75c9-48ab-9ab1-2175a6c6d433"
      },
      "source": [
        "feature_names_Wind_Speed,vectorized_Wind_Speed = encode_categorical_to_numerical(selected_data.Wind_Speed)\n",
        "print(feature_names_Wind_Speed)"
      ],
      "execution_count": null,
      "outputs": [
        {
          "output_type": "stream",
          "text": [
            "['106709', '111398', '118796', '125468', '145038', '156828', '157473', '164468', '167281', '176127', '182763', '188188', '201626', '204918', '21113', '219314', '228631', '242288', '244458', '269603', '275191', '287773', '288242', '295674', '300355', '312936', '314335', '315579', '320744', '325518', '334063', '338113', '348512', '349387', '351441', '352292', '352635', '352886', '356071', '363441', '380381', '39818', '409621', '428183', '430207', '438305']\n"
          ],
          "name": "stdout"
        }
      ]
    },
    {
      "cell_type": "code",
      "metadata": {
        "id": "VlYw9Jrw9z_i",
        "outputId": "80a650a9-75e1-493d-c86d-135be3ec6575"
      },
      "source": [
        "vectorized_Wind_Speed[:2]"
      ],
      "execution_count": null,
      "outputs": [
        {
          "output_type": "execute_result",
          "data": {
            "text/plain": [
              "array([[0, 0, 0, 0, 0, 0, 0, 0, 0, 0, 0, 0, 0, 0, 0, 0, 0, 0, 0, 0, 0, 0,\n",
              "        0, 0, 0, 0, 0, 0, 0, 0, 0, 0, 0, 0, 0, 0, 0, 0, 0, 0, 0, 0, 0, 0,\n",
              "        0, 0],\n",
              "       [0, 0, 0, 0, 0, 0, 0, 0, 0, 0, 0, 0, 0, 0, 0, 0, 0, 0, 0, 0, 0, 0,\n",
              "        0, 0, 0, 0, 0, 0, 0, 0, 0, 0, 0, 0, 0, 0, 0, 0, 0, 0, 0, 0, 0, 0,\n",
              "        0, 0]], dtype=int64)"
            ]
          },
          "metadata": {
            "tags": []
          },
          "execution_count": 41
        }
      ]
    },
    {
      "cell_type": "code",
      "metadata": {
        "id": "fY0Sun-Z9z_i",
        "outputId": "24155fdd-7b97-41a9-8062-c09e085c0bce"
      },
      "source": [
        "feature_names_Humidity,vectorized_Humidity = encode_categorical_to_numerical(selected_data.Humidity)\n",
        "print(feature_names_Humidity)"
      ],
      "execution_count": null,
      "outputs": [
        {
          "output_type": "stream",
          "text": [
            "['010478', '010804', '011024', '011739', '012131', '012459', '012846', '012851', '012974', '013103', '013127', '013318', '013748', '014185', '014393', '014407', '014527', '014797', '015038', '015152', '01527', '016075']\n"
          ],
          "name": "stdout"
        }
      ]
    },
    {
      "cell_type": "code",
      "metadata": {
        "id": "_9Od7wGc9z_i",
        "outputId": "983fadb8-ce5f-4fc7-8ea6-5a1dabd9e900"
      },
      "source": [
        "vectorized_Humidity[:2]"
      ],
      "execution_count": null,
      "outputs": [
        {
          "output_type": "execute_result",
          "data": {
            "text/plain": [
              "array([[0, 0, 0, 0, 0, 0, 0, 0, 0, 0, 0, 0, 0, 0, 0, 0, 0, 0, 0, 0, 0, 0],\n",
              "       [0, 0, 0, 0, 0, 1, 0, 0, 0, 0, 0, 0, 0, 0, 0, 0, 0, 0, 0, 0, 0, 0]],\n",
              "      dtype=int64)"
            ]
          },
          "metadata": {
            "tags": []
          },
          "execution_count": 43
        }
      ]
    },
    {
      "cell_type": "code",
      "metadata": {
        "id": "c9I8RPIE9z_j",
        "outputId": "b86f24e2-8ef5-4084-9547-413f95af3a4d"
      },
      "source": [
        "feature_names_Elevation,vectorized_Elevation = encode_categorical_to_numerical(selected_data.Elevation)\n",
        "print(feature_names_Elevation)"
      ],
      "execution_count": null,
      "outputs": [
        {
          "output_type": "stream",
          "text": [
            "['01321', '032665', '047853', '057838', '07229', '078402', '079623', '10', '108661', '109', '11', '117', '12', '120', '1225', '129', '13', '133', '134326', '138924', '15', '157', '16', '17', '18', '19', '20', '22', '228765', '23', '234754', '240493', '25', '26', '264', '265804', '266396', '270325', '276217', '28', '281348', '287365', '29', '30', '305659', '31', '321481', '326467', '342132', '35', '353018', '36', '360551', '37', '378917', '38', '380014', '385122', '39', '390258', '396945', '396976', '398561', '407518', '41', '42', '427933', '43', '441355', '457732', '466897', '492991', '501042', '50757', '5268', '533784', '542467', '54275', '56', '575796', '578947', '58', '596133', '61', '62', '642973', '646998', '649851', '65', '653358', '66', '660208', '675536', '676239', '683379', '69', '717412', '725459', '733091', '733935', '741687', '77', '791766', '81', '814076', '820778', '823179', '82755', '83', '846245', '85', '855578', '88', '883763', '894545', '899292', '909485', '932609', '94387', '944054', '944462', '951051', '956785', '960483', '97017', '999903']\n"
          ],
          "name": "stdout"
        }
      ]
    },
    {
      "cell_type": "code",
      "metadata": {
        "id": "iQjyV3Uu9z_j",
        "outputId": "d7caef84-d62f-4c79-f698-0d94c8e7f99b"
      },
      "source": [
        "vectorized_Elevation[:2]"
      ],
      "execution_count": null,
      "outputs": [
        {
          "output_type": "execute_result",
          "data": {
            "text/plain": [
              "array([[0, 0, 0, 0, 0, 0, 0, 0, 0, 0, 0, 0, 0, 0, 0, 0, 0, 0, 0, 0, 0, 0,\n",
              "        0, 0, 0, 0, 0, 0, 0, 0, 0, 0, 0, 0, 0, 0, 0, 0, 0, 0, 0, 0, 0, 0,\n",
              "        0, 0, 0, 0, 0, 0, 0, 0, 0, 0, 0, 0, 0, 0, 0, 0, 0, 0, 0, 0, 0, 0,\n",
              "        0, 0, 0, 0, 0, 0, 0, 0, 0, 0, 0, 0, 0, 0, 0, 0, 0, 0, 0, 0, 0, 0,\n",
              "        0, 0, 0, 0, 0, 0, 0, 0, 0, 0, 0, 0, 0, 0, 0, 0, 0, 0, 0, 0, 0, 0,\n",
              "        0, 0, 0, 0, 0, 0, 0, 0, 0, 0, 0, 0, 0, 0, 0, 0],\n",
              "       [0, 0, 0, 0, 0, 0, 0, 0, 0, 0, 0, 0, 0, 0, 0, 0, 0, 0, 0, 0, 1, 0,\n",
              "        0, 0, 0, 0, 0, 0, 0, 0, 0, 0, 0, 0, 0, 0, 0, 0, 0, 0, 0, 0, 0, 0,\n",
              "        0, 0, 1, 0, 0, 0, 0, 0, 0, 0, 0, 0, 0, 0, 0, 0, 0, 0, 0, 0, 0, 0,\n",
              "        0, 0, 0, 0, 0, 0, 0, 0, 0, 0, 0, 0, 0, 0, 0, 0, 0, 0, 0, 0, 0, 0,\n",
              "        0, 0, 0, 0, 0, 0, 0, 0, 0, 0, 0, 0, 0, 0, 0, 0, 0, 0, 0, 0, 0, 0,\n",
              "        0, 0, 0, 0, 0, 0, 0, 0, 0, 0, 0, 0, 0, 0, 0, 0]], dtype=int64)"
            ]
          },
          "metadata": {
            "tags": []
          },
          "execution_count": 45
        }
      ]
    },
    {
      "cell_type": "code",
      "metadata": {
        "id": "xsXb63k99z_k",
        "outputId": "76a05cbc-13e8-46aa-ef42-e3af489c39ab"
      },
      "source": [
        "feature_names_Area_CL,vectorized_Area_CL = encode_categorical_to_numerical(selected_data.Area_CL)\n",
        "print(feature_names_Area_CL)"
      ],
      "execution_count": null,
      "outputs": [
        {
          "output_type": "stream",
          "text": [
            "['1080000', '1260000', '1440000', '180000', '270000', '360000', '450000', '630000', '810000', '90000', '990000']\n"
          ],
          "name": "stdout"
        }
      ]
    },
    {
      "cell_type": "code",
      "metadata": {
        "id": "arDGzENk9z_k",
        "outputId": "d6c30662-941d-4bed-d892-7b427c65b2f5"
      },
      "source": [
        "vectorized_Area_CL[:2]"
      ],
      "execution_count": null,
      "outputs": [
        {
          "output_type": "execute_result",
          "data": {
            "text/plain": [
              "array([[0, 0, 0, 0, 0, 0, 0, 0, 0, 0, 0],\n",
              "       [0, 0, 0, 0, 0, 0, 0, 0, 0, 0, 0]], dtype=int64)"
            ]
          },
          "metadata": {
            "tags": []
          },
          "execution_count": 47
        }
      ]
    },
    {
      "cell_type": "code",
      "metadata": {
        "id": "rxpUD_S39z_l",
        "outputId": "9765c533-4416-47dd-8c09-297c0ad50c14"
      },
      "source": [
        "feature_names_Area_HC,vectorized_Area_HC = encode_categorical_to_numerical(selected_data.Area_HC)\n",
        "print(feature_names_Area_HC)"
      ],
      "execution_count": null,
      "outputs": [
        {
          "output_type": "stream",
          "text": [
            "['1170000', '1260000', '1530000', '180000', '2160000', '450000', '5490000', '720000', '90000']\n"
          ],
          "name": "stdout"
        }
      ]
    },
    {
      "cell_type": "code",
      "metadata": {
        "id": "TWpYwYL89z_l",
        "outputId": "bafb8527-7c09-478c-97ed-0a084df86061"
      },
      "source": [
        "vectorized_Area_HC[:2]"
      ],
      "execution_count": null,
      "outputs": [
        {
          "output_type": "execute_result",
          "data": {
            "text/plain": [
              "array([[0, 0, 0, 0, 0, 0, 0, 0, 0],\n",
              "       [1, 0, 0, 0, 0, 0, 0, 0, 0]], dtype=int64)"
            ]
          },
          "metadata": {
            "tags": []
          },
          "execution_count": 49
        }
      ]
    },
    {
      "cell_type": "code",
      "metadata": {
        "id": "LdL1ZwZJ9z_m",
        "outputId": "f9dcddf3-bab1-4339-8bd9-12dea45406c4"
      },
      "source": [
        "feature_names_Area_TC,vectorized_Area_TC = encode_categorical_to_numerical(selected_data.Area_TC)\n",
        "print(feature_names_Area_TC)"
      ],
      "execution_count": null,
      "outputs": [
        {
          "output_type": "stream",
          "text": [
            "['1170000']\n"
          ],
          "name": "stdout"
        }
      ]
    },
    {
      "cell_type": "code",
      "metadata": {
        "id": "l8mD1RCf9z_m",
        "outputId": "32db3e6c-b73b-49c8-a060-55da541291bc"
      },
      "source": [
        "vectorized_Area_TC[:2]"
      ],
      "execution_count": null,
      "outputs": [
        {
          "output_type": "execute_result",
          "data": {
            "text/plain": [
              "array([[0],\n",
              "       [0]], dtype=int64)"
            ]
          },
          "metadata": {
            "tags": []
          },
          "execution_count": 51
        }
      ]
    },
    {
      "cell_type": "code",
      "metadata": {
        "id": "AZ-UbOnt9z_m",
        "outputId": "526fcf7a-caa7-4afb-fefb-87f596e4068d"
      },
      "source": [
        "feature_names_Area_SV,vectorized_Area_SV = encode_categorical_to_numerical(selected_data.Area_SV)\n",
        "print(feature_names_Area_SV)"
      ],
      "execution_count": null,
      "outputs": [
        {
          "output_type": "stream",
          "text": [
            "['1260000', '1350000', '1620000', '180000', '2430000', '270000', '3690000', '450000', '540000', '810000', '90000', '900000']\n"
          ],
          "name": "stdout"
        }
      ]
    },
    {
      "cell_type": "code",
      "metadata": {
        "id": "KHE4RQHj9z_n",
        "outputId": "167192bc-c746-45ae-aa76-765bbfc3ac96"
      },
      "source": [
        "vectorized_Area_SV[:2]"
      ],
      "execution_count": null,
      "outputs": [
        {
          "output_type": "execute_result",
          "data": {
            "text/plain": [
              "array([[0, 0, 0, 0, 0, 0, 0, 0, 0, 0, 0, 0],\n",
              "       [0, 0, 0, 0, 0, 0, 0, 0, 0, 0, 0, 0]], dtype=int64)"
            ]
          },
          "metadata": {
            "tags": []
          },
          "execution_count": 53
        }
      ]
    },
    {
      "cell_type": "code",
      "metadata": {
        "id": "vEcJdZ619z_n",
        "outputId": "5907c38b-e03c-47e5-a174-ee7bef271146"
      },
      "source": [
        "feature_names_Urban_Area,vectorized_Urban_Area = encode_categorical_to_numerical(selected_data.Urban_Area)\n",
        "print(feature_names_Urban_Area)"
      ],
      "execution_count": null,
      "outputs": [
        {
          "output_type": "stream",
          "text": [
            "['1080000', '1170000', '1260000', '14040000', '1440000', '1530000', '15930000', '1710000', '1800000', '1980000', '2070000', '2160000', '2340000', '2520000', '270000', '2700000', '2790000', '3510000', '3600000', '3690000', '3870000', '4050000', '4140000', '4230000', '4320000', '4410000', '450000', '4590000', '4680000', '4770000', '4860000', '4950000', '5040000', '5220000', '5310000', '540000', '5760000', '5850000', '6210000', '6840000', '6930000', '7200000', '7380000', '7470000', '7560000', '7650000', '7830000', '810000', '8100000', '8190000', '8460000', '90000', '9540000', '9630000', '9720000', '990000']\n"
          ],
          "name": "stdout"
        }
      ]
    },
    {
      "cell_type": "code",
      "metadata": {
        "id": "fgkdZozQ9z_n",
        "outputId": "4f31d17e-8de8-43d8-8ca6-f8f2a84d1c97"
      },
      "source": [
        "vectorized_Urban_Area[:2]"
      ],
      "execution_count": null,
      "outputs": [
        {
          "output_type": "execute_result",
          "data": {
            "text/plain": [
              "array([[0, 0, 0, 0, 0, 0, 0, 0, 0, 0, 0, 0, 0, 0, 0, 0, 0, 0, 0, 0, 0, 0,\n",
              "        0, 0, 0, 0, 0, 0, 0, 0, 0, 0, 0, 0, 0, 0, 0, 0, 0, 0, 0, 0, 0, 0,\n",
              "        0, 0, 0, 0, 0, 0, 0, 0, 0, 0, 0, 0],\n",
              "       [0, 0, 0, 0, 0, 0, 0, 0, 0, 0, 0, 0, 0, 0, 0, 0, 0, 0, 0, 0, 0, 1,\n",
              "        0, 0, 0, 0, 0, 0, 0, 0, 0, 0, 0, 0, 0, 0, 0, 0, 0, 0, 0, 0, 0, 0,\n",
              "        0, 0, 0, 0, 0, 0, 0, 0, 0, 0, 0, 0]], dtype=int64)"
            ]
          },
          "metadata": {
            "tags": []
          },
          "execution_count": 55
        }
      ]
    },
    {
      "cell_type": "code",
      "metadata": {
        "id": "xQekvqnV9z_o",
        "outputId": "008cc9e0-de4c-4551-b97d-c6db5fc22da2"
      },
      "source": [
        "feature_names_Bare_Area,vectorized_Bare_Area = encode_categorical_to_numerical(selected_data.Bare_Area)\n",
        "print(feature_names_Bare_Area)"
      ],
      "execution_count": null,
      "outputs": [
        {
          "output_type": "stream",
          "text": [
            "['10350000', '1080000', '11250000', '11430000', '11520000', '1170000', '12150000', '12420000', '12510000', '1260000', '1350000', '13680000', '15210000', '15390000', '16200000', '16290000', '17010000', '180000', '20340000', '2160000', '22050000', '22140000', '2430000', '270000', '3150000', '31590000', '32400000', '33570000', '3600000', '3690000', '4140000', '45360000', '5310000', '540000', '6030000', '720000', '7920000', '90000', '900000', '9360000', '9630000', '9720000', '9990000']\n"
          ],
          "name": "stdout"
        }
      ]
    },
    {
      "cell_type": "code",
      "metadata": {
        "id": "UK-5w9pI9z_o",
        "outputId": "78311c8b-d69c-47c2-c83e-856c9812c004"
      },
      "source": [
        "vectorized_Bare_Area[:2]"
      ],
      "execution_count": null,
      "outputs": [
        {
          "output_type": "execute_result",
          "data": {
            "text/plain": [
              "array([[0, 0, 0, 0, 0, 0, 0, 0, 0, 0, 0, 0, 0, 0, 0, 0, 0, 0, 0, 0, 0, 0,\n",
              "        0, 0, 0, 0, 0, 0, 0, 0, 0, 0, 0, 0, 0, 0, 0, 0, 0, 0, 0, 0, 0],\n",
              "       [0, 0, 0, 0, 0, 0, 0, 0, 0, 0, 0, 0, 0, 0, 0, 0, 0, 1, 0, 0, 0, 0,\n",
              "        0, 0, 0, 0, 0, 0, 0, 0, 0, 0, 0, 0, 0, 0, 0, 0, 0, 0, 0, 0, 0]],\n",
              "      dtype=int64)"
            ]
          },
          "metadata": {
            "tags": []
          },
          "execution_count": 57
        }
      ]
    },
    {
      "cell_type": "code",
      "metadata": {
        "id": "frd4zYr59z_p",
        "outputId": "703d3027-87ff-41fa-e231-bb4680c04643"
      },
      "source": [
        "feature_names_Area_CBA,vectorized_Area_CBA= encode_categorical_to_numerical(selected_data.Area_CBA)\n",
        "print(feature_names_Area_CBA)"
      ],
      "execution_count": null,
      "outputs": [
        {
          "output_type": "stream",
          "text": [
            "['1440000', '180000', '2520000', '270000', '450000', '90000', '990000']\n"
          ],
          "name": "stdout"
        }
      ]
    },
    {
      "cell_type": "code",
      "metadata": {
        "id": "pSPbspoM9z_p",
        "outputId": "ddfdb58f-ea48-4fac-a8d3-2c3685aed024"
      },
      "source": [
        "vectorized_Area_CBA[:2]"
      ],
      "execution_count": null,
      "outputs": [
        {
          "output_type": "execute_result",
          "data": {
            "text/plain": [
              "array([[0, 0, 0, 0, 0, 0, 0],\n",
              "       [0, 0, 0, 0, 0, 0, 0]], dtype=int64)"
            ]
          },
          "metadata": {
            "tags": []
          },
          "execution_count": 59
        }
      ]
    },
    {
      "cell_type": "code",
      "metadata": {
        "id": "2rmanGj29z_p",
        "outputId": "eb700331-5e02-4226-8aa9-f05d6d8549a7"
      },
      "source": [
        "feature_names_Area_UBA,vectorized_Area_UBA = encode_categorical_to_numerical(selected_data.Area_UBA)\n",
        "print(feature_names_Area_UBA)"
      ],
      "execution_count": null,
      "outputs": [
        {
          "output_type": "stream",
          "text": [
            "['1080000', '1440000', '180000', '1980000', '2430000', '270000', '2790000', '3420000', '360000', '450000', '540000', '630000', '90000']\n"
          ],
          "name": "stdout"
        }
      ]
    },
    {
      "cell_type": "code",
      "metadata": {
        "id": "nXEa0UQF9z_q",
        "outputId": "df6d4f88-f9db-4d60-a68a-a7a7af272634"
      },
      "source": [
        "vectorized_Area_UBA[:2]"
      ],
      "execution_count": null,
      "outputs": [
        {
          "output_type": "execute_result",
          "data": {
            "text/plain": [
              "array([[0, 0, 0, 0, 0, 0, 0, 0, 0, 0, 0, 0, 0],\n",
              "       [0, 1, 0, 0, 0, 0, 0, 0, 0, 0, 0, 0, 0]], dtype=int64)"
            ]
          },
          "metadata": {
            "tags": []
          },
          "execution_count": 61
        }
      ]
    },
    {
      "cell_type": "code",
      "metadata": {
        "id": "kHiW2HkI9z_q",
        "outputId": "1f1aa4fb-d9bc-4b20-dc2c-a695be682ed6"
      },
      "source": [
        "feature_names_Water_Area,vectorized_Water_Area = encode_categorical_to_numerical(selected_data.Water_Area)\n",
        "print(feature_names_Water_Area)"
      ],
      "execution_count": null,
      "outputs": [
        {
          "output_type": "stream",
          "text": [
            "['180000', '1980000', '270000', '360000', '450000', '90000', '900000', '990000']\n"
          ],
          "name": "stdout"
        }
      ]
    },
    {
      "cell_type": "code",
      "metadata": {
        "id": "1vhN19SB9z_r",
        "outputId": "3def0514-4d11-441f-cb30-cf82e15d21ee"
      },
      "source": [
        "vectorized_Water_Area[:2]"
      ],
      "execution_count": null,
      "outputs": [
        {
          "output_type": "execute_result",
          "data": {
            "text/plain": [
              "array([[0, 0, 0, 0, 0, 0, 0, 0],\n",
              "       [0, 0, 0, 0, 0, 0, 0, 0]], dtype=int64)"
            ]
          },
          "metadata": {
            "tags": []
          },
          "execution_count": 63
        }
      ]
    },
    {
      "cell_type": "code",
      "metadata": {
        "colab": {
          "base_uri": "https://localhost:8080/",
          "height": 166
        },
        "id": "51gCOWNKA5Wu",
        "outputId": "8256d5d1-ecc7-4532-cb97-fbbd33f47f90"
      },
      "source": [
        "selected_data.head(3) # printing first 3 rows and checking the values"
      ],
      "execution_count": null,
      "outputs": [
        {
          "output_type": "execute_result",
          "data": {
            "text/html": [
              "<div>\n",
              "<style scoped>\n",
              "    .dataframe tbody tr th:only-of-type {\n",
              "        vertical-align: middle;\n",
              "    }\n",
              "\n",
              "    .dataframe tbody tr th {\n",
              "        vertical-align: top;\n",
              "    }\n",
              "\n",
              "    .dataframe thead th {\n",
              "        text-align: right;\n",
              "    }\n",
              "</style>\n",
              "<table border=\"1\" class=\"dataframe\">\n",
              "  <thead>\n",
              "    <tr style=\"text-align: right;\">\n",
              "      <th></th>\n",
              "      <th>Week_No</th>\n",
              "      <th>Recording_Year</th>\n",
              "      <th>Age</th>\n",
              "      <th>Gender</th>\n",
              "      <th>Nationality</th>\n",
              "      <th>Occupation</th>\n",
              "      <th>Municipality_ID</th>\n",
              "      <th>Hospital_Name</th>\n",
              "      <th>The_Final_Diagnosis</th>\n",
              "      <th>Population</th>\n",
              "      <th>...</th>\n",
              "      <th>Elevation</th>\n",
              "      <th>Area_CL</th>\n",
              "      <th>Area_HC</th>\n",
              "      <th>Area_TC</th>\n",
              "      <th>Area_SV</th>\n",
              "      <th>Urban_Area</th>\n",
              "      <th>Bare_Area</th>\n",
              "      <th>Area_CBA</th>\n",
              "      <th>Area_UBA</th>\n",
              "      <th>Water_Area</th>\n",
              "    </tr>\n",
              "    <tr>\n",
              "      <th>Case_ID</th>\n",
              "      <th></th>\n",
              "      <th></th>\n",
              "      <th></th>\n",
              "      <th></th>\n",
              "      <th></th>\n",
              "      <th></th>\n",
              "      <th></th>\n",
              "      <th></th>\n",
              "      <th></th>\n",
              "      <th></th>\n",
              "      <th></th>\n",
              "      <th></th>\n",
              "      <th></th>\n",
              "      <th></th>\n",
              "      <th></th>\n",
              "      <th></th>\n",
              "      <th></th>\n",
              "      <th></th>\n",
              "      <th></th>\n",
              "      <th></th>\n",
              "      <th></th>\n",
              "    </tr>\n",
              "  </thead>\n",
              "  <tbody>\n",
              "    <tr>\n",
              "      <td>2</td>\n",
              "      <td>1</td>\n",
              "      <td>2012</td>\n",
              "      <td>11.0</td>\n",
              "      <td>Male</td>\n",
              "      <td>Saudi</td>\n",
              "      <td>Student</td>\n",
              "      <td>0.0</td>\n",
              "      <td>International Medical Center</td>\n",
              "      <td>Suspect</td>\n",
              "      <td>0.0</td>\n",
              "      <td>...</td>\n",
              "      <td>0.000000</td>\n",
              "      <td>0.0</td>\n",
              "      <td>0.0</td>\n",
              "      <td>0.0</td>\n",
              "      <td>0.0</td>\n",
              "      <td>0.0</td>\n",
              "      <td>0.0</td>\n",
              "      <td>0.0</td>\n",
              "      <td>0.0</td>\n",
              "      <td>0.0</td>\n",
              "    </tr>\n",
              "    <tr>\n",
              "      <td>3</td>\n",
              "      <td>1</td>\n",
              "      <td>2012</td>\n",
              "      <td>35.0</td>\n",
              "      <td>Male</td>\n",
              "      <td>Saudi</td>\n",
              "      <td>0</td>\n",
              "      <td>1.0</td>\n",
              "      <td>International Medical Center</td>\n",
              "      <td>Suspect</td>\n",
              "      <td>16867.0</td>\n",
              "      <td>...</td>\n",
              "      <td>15.321481</td>\n",
              "      <td>0.0</td>\n",
              "      <td>1170000.0</td>\n",
              "      <td>0.0</td>\n",
              "      <td>0.0</td>\n",
              "      <td>4050000.0</td>\n",
              "      <td>180000.0</td>\n",
              "      <td>0.0</td>\n",
              "      <td>1440000.0</td>\n",
              "      <td>0.0</td>\n",
              "    </tr>\n",
              "    <tr>\n",
              "      <td>4</td>\n",
              "      <td>1</td>\n",
              "      <td>2012</td>\n",
              "      <td>24.0</td>\n",
              "      <td>Female</td>\n",
              "      <td>Saudi</td>\n",
              "      <td>Teacher</td>\n",
              "      <td>11.0</td>\n",
              "      <td>International Medical Center</td>\n",
              "      <td>Suspect</td>\n",
              "      <td>0.0</td>\n",
              "      <td>...</td>\n",
              "      <td>0.000000</td>\n",
              "      <td>0.0</td>\n",
              "      <td>0.0</td>\n",
              "      <td>0.0</td>\n",
              "      <td>0.0</td>\n",
              "      <td>8460000.0</td>\n",
              "      <td>0.0</td>\n",
              "      <td>0.0</td>\n",
              "      <td>0.0</td>\n",
              "      <td>0.0</td>\n",
              "    </tr>\n",
              "  </tbody>\n",
              "</table>\n",
              "<p>3 rows × 24 columns</p>\n",
              "</div>"
            ],
            "text/plain": [
              "         Week_No  Recording_Year   Age  Gender Nationality Occupation  \\\n",
              "Case_ID                                                                 \n",
              "2              1            2012  11.0    Male       Saudi    Student   \n",
              "3              1            2012  35.0    Male       Saudi          0   \n",
              "4              1            2012  24.0  Female       Saudi    Teacher   \n",
              "\n",
              "         Municipality_ID                 Hospital_Name The_Final_Diagnosis  \\\n",
              "Case_ID                                                                      \n",
              "2                    0.0  International Medical Center             Suspect   \n",
              "3                    1.0  International Medical Center             Suspect   \n",
              "4                   11.0  International Medical Center             Suspect   \n",
              "\n",
              "         Population  ...  Elevation  Area_CL    Area_HC  Area_TC  Area_SV  \\\n",
              "Case_ID              ...                                                    \n",
              "2               0.0  ...   0.000000      0.0        0.0      0.0      0.0   \n",
              "3           16867.0  ...  15.321481      0.0  1170000.0      0.0      0.0   \n",
              "4               0.0  ...   0.000000      0.0        0.0      0.0      0.0   \n",
              "\n",
              "         Urban_Area  Bare_Area  Area_CBA   Area_UBA  Water_Area  \n",
              "Case_ID                                                          \n",
              "2               0.0        0.0       0.0        0.0         0.0  \n",
              "3         4050000.0   180000.0       0.0  1440000.0         0.0  \n",
              "4         8460000.0        0.0       0.0        0.0         0.0  \n",
              "\n",
              "[3 rows x 24 columns]"
            ]
          },
          "metadata": {
            "tags": []
          },
          "execution_count": 64
        }
      ]
    },
    {
      "cell_type": "markdown",
      "metadata": {
        "id": "NUr8GliBA5Wv"
      },
      "source": [
        "#### Hstacking"
      ]
    },
    {
      "cell_type": "code",
      "metadata": {
        "colab": {
          "base_uri": "https://localhost:8080/"
        },
        "id": "zN0QQjzEA5Wv",
        "outputId": "2b5819ef-1b46-4a4f-ea5e-8dcd1c79f518"
      },
      "source": [
        "len(vectorized_Week_No),len(vectorized_Recording_Year),len(vectorized_Age),len(vectorized_Gender),len(vectorized_Nationality),len(vectorized_Occupation),len(vectorized_Municipality_ID),len(vectorized_Hospital_Name),len(vectorized_The_Final_Diagnosis),len(vectorized_Population),len(vectorized_Temperature),len(vectorized_Precipitation),len(vectorized_Wind_Speed),len(vectorized_Humidity),len(vectorized_Elevation),len(vectorized_Area_CL),len(vectorized_Area_HC),len(vectorized_Area_TC),len(vectorized_Area_SV),len(vectorized_Urban_Area),len(vectorized_Bare_Area),len(vectorized_Area_CBA),len(vectorized_Area_UBA),len(vectorized_Water_Area),"
      ],
      "execution_count": null,
      "outputs": [
        {
          "output_type": "execute_result",
          "data": {
            "text/plain": [
              "(1790,\n",
              " 1790,\n",
              " 1790,\n",
              " 1790,\n",
              " 1790,\n",
              " 1790,\n",
              " 1790,\n",
              " 1790,\n",
              " 1790,\n",
              " 1790,\n",
              " 1790,\n",
              " 1790,\n",
              " 1790,\n",
              " 1790,\n",
              " 1790,\n",
              " 1790,\n",
              " 1790,\n",
              " 1790,\n",
              " 1790,\n",
              " 1790,\n",
              " 1790,\n",
              " 1790,\n",
              " 1790,\n",
              " 1790)"
            ]
          },
          "metadata": {
            "tags": []
          },
          "execution_count": 65
        }
      ]
    },
    {
      "cell_type": "code",
      "metadata": {
        "id": "cDqdPpaxA5Wv"
      },
      "source": [
        "selected_data.Week_No=selected_data.Week_No.values.reshape(-1,1)"
      ],
      "execution_count": null,
      "outputs": []
    },
    {
      "cell_type": "code",
      "metadata": {
        "id": "gfaBeXysA5Ww"
      },
      "source": [
        "import numpy as np\n",
        "\n",
        "hstacked_data = np.column_stack((vectorized_Week_No, vectorized_Recording_Year,\n",
        "                                 vectorized_Age, vectorized_Gender, vectorized_Nationality, vectorized_Occupation, vectorized_Municipality_ID,\n",
        "                                 vectorized_Hospital_Name, vectorized_The_Final_Diagnosis, vectorized_Population, vectorized_Temperature,\n",
        "                                 vectorized_Precipitation, vectorized_Wind_Speed, vectorized_Humidity, vectorized_Elevation, vectorized_Area_CL,\n",
        "                                 vectorized_Area_HC, vectorized_Area_TC, vectorized_Area_SV, vectorized_Urban_Area, vectorized_Bare_Area,\n",
        "                                 vectorized_Area_CBA, vectorized_Area_UBA, vectorized_Water_Area))"
      ],
      "execution_count": null,
      "outputs": []
    },
    {
      "cell_type": "code",
      "metadata": {
        "colab": {
          "base_uri": "https://localhost:8080/"
        },
        "id": "kxWWfb6NA5Ww",
        "outputId": "a119eb1f-c2e7-46c2-ff5e-30f3cc86eb43"
      },
      "source": [
        "hstacked_data"
      ],
      "execution_count": null,
      "outputs": [
        {
          "output_type": "execute_result",
          "data": {
            "text/plain": [
              "array([[0, 0, 0, ..., 0, 0, 0],\n",
              "       [0, 0, 0, ..., 0, 0, 0],\n",
              "       [0, 0, 0, ..., 0, 0, 0],\n",
              "       ...,\n",
              "       [0, 0, 0, ..., 0, 0, 0],\n",
              "       [0, 0, 0, ..., 0, 0, 0],\n",
              "       [0, 0, 0, ..., 0, 0, 0]], dtype=int64)"
            ]
          },
          "metadata": {
            "tags": []
          },
          "execution_count": 68
        }
      ]
    },
    {
      "cell_type": "markdown",
      "metadata": {
        "id": "QUT0fSmtA5Ww"
      },
      "source": [
        "#### Normalizing data "
      ]
    },
    {
      "cell_type": "code",
      "metadata": {
        "id": "EOigY8GSA5Ww"
      },
      "source": [
        "from sklearn.preprocessing import Normalizer\n",
        "normalized_data = Normalizer().fit_transform(hstacked_data) # normalizing the data"
      ],
      "execution_count": null,
      "outputs": []
    },
    {
      "cell_type": "code",
      "metadata": {
        "id": "3sXdhzA9A5Wx"
      },
      "source": [
        "from sklearn.preprocessing import StandardScaler\n",
        "import numpy as np\n",
        "standarized_data = StandardScaler().fit_transform(hstacked_data) #standarizing the data \n",
        "standarized_data = np.array(standarized_data)"
      ],
      "execution_count": null,
      "outputs": []
    },
    {
      "cell_type": "code",
      "metadata": {
        "id": "Rm5uxCKaA5Wx"
      },
      "source": [
        "#this code will ignore the warninghs\n",
        "import warnings\n",
        "warnings.filterwarnings('ignore') "
      ],
      "execution_count": null,
      "outputs": []
    },
    {
      "cell_type": "code",
      "metadata": {
        "colab": {
          "base_uri": "https://localhost:8080/"
        },
        "id": "x-Z65Z8HA5Wx",
        "outputId": "d4888c57-364e-4769-b27a-8935db608e86"
      },
      "source": [
        "# importing self organizing maps and defining the parameters to SOM\n",
        "#!pip install neupy\n",
        "import numpy as np\n",
        "from neupy import algorithms, utils\n",
        "som = algorithms.SOFM(n_inputs=945,n_outputs=946,\n",
        "    step=0.32,\n",
        "    show_epoch=50,\n",
        "    verbose=True,\n",
        "    learning_radius=750,\n",
        "    features_grid=(946, 1))"
      ],
      "execution_count": null,
      "outputs": [
        {
          "output_type": "stream",
          "text": [
            "\n",
            "Main information\n",
            "\n",
            "[ALGORITHM] SOFM\n",
            "\r\n",
            "[OPTION] distance = ['euclid', 'neg_euclid_distance']\n",
            "[OPTION] features_grid = [946, 1]\n",
            "[OPTION] grid_type = ['rectangle', 'find_neighbours_on_rect_grid', 'find_step_scaler_on_rect_grid']\n",
            "[OPTION] learning_radius = 750\n",
            "[OPTION] n_inputs = 945\n",
            "[OPTION] n_outputs = 946\n",
            "[OPTION] reduce_radius_after = 100\n",
            "[OPTION] reduce_std_after = 100\n",
            "[OPTION] reduce_step_after = 100\n",
            "[OPTION] show_epoch = 50\n",
            "[OPTION] shuffle_data = False\n",
            "[OPTION] signals = None\n",
            "[OPTION] std = 1\n",
            "[OPTION] step = 0.32\n",
            "[OPTION] verbose = True\n",
            "[OPTION] weight = Normal(mean=0, std=0.01)\n",
            "\r\n"
          ],
          "name": "stdout"
        }
      ]
    },
    {
      "cell_type": "code",
      "metadata": {
        "colab": {
          "base_uri": "https://localhost:8080/"
        },
        "id": "vb7kPEiRA5Wx",
        "outputId": "11f555d2-f4e6-4980-bd18-8012189f6840"
      },
      "source": [
        "som.train(normalized_data, epochs=20) # training the SOM's"
      ],
      "execution_count": null,
      "outputs": [
        {
          "output_type": "stream",
          "text": [
            "                                                                               \r"
          ],
          "name": "stderr"
        },
        {
          "output_type": "stream",
          "text": [
            "#1 : [01:02] train: 0.006177\n"
          ],
          "name": "stdout"
        },
        {
          "output_type": "stream",
          "text": [
            "                                                                               \r"
          ],
          "name": "stderr"
        },
        {
          "output_type": "stream",
          "text": [
            "#20 : [01:12] train: 0.006193\n"
          ],
          "name": "stdout"
        },
        {
          "output_type": "stream",
          "text": [
            "                                                                               \r"
          ],
          "name": "stderr"
        }
      ]
    },
    {
      "cell_type": "code",
      "metadata": {
        "id": "SAKyQJlgA5Wy"
      },
      "source": [
        "som_data = som.predict(standarized_data) # predicting the som for the data"
      ],
      "execution_count": null,
      "outputs": []
    },
    {
      "cell_type": "code",
      "metadata": {
        "colab": {
          "base_uri": "https://localhost:8080/"
        },
        "id": "kUYef7POA5Wy",
        "outputId": "c8e9b303-5319-4a7b-94b9-d4be71d5eac7"
      },
      "source": [
        "sum(som_data)"
      ],
      "execution_count": null,
      "outputs": [
        {
          "output_type": "execute_result",
          "data": {
            "text/plain": [
              "array([262,   5,   1,   8,  38, 103,   6,   3,  22,   8,   3, 151,   2,\n",
              "         0,   3,   0,   3,  65,   0,   0,   0,   1,   0,   0,   0,   0,\n",
              "         0,   0,   0, 127,   0,   0,   0,   0,   0,   0,   0,   0,   0,\n",
              "         0,   0,   0,   0,   0,   0,   0,   0,   0,   0,   0,   0,   0,\n",
              "         0,   0,   0,   0,   0,   0,   0,   0,   0,   0,   0,   0,   0,\n",
              "         0,   0,   0,   0,   0,   0,   0,   0,   0,   0,   0,   0,   0,\n",
              "         0,   0,   0,   0,   0,   0,   0,   1,   0,   0,   0,   0,   0,\n",
              "         0,   0,   0,   0,   0,   0,   0,   0,   0,   0,   0,   0,   0,\n",
              "         0,   0,   0,   0,   0,   0,   0,   0,   0,   0,   0,   0,   0,\n",
              "         0,   0,   0,   0,   0,   0,   0,   0,   0,   0,   0,   0,   0,\n",
              "         0,   0,   0,   0,   0,   0,   0,   0,   0,   0,   0,   0,   0,\n",
              "         0,   0,   0,   0,   0,   0,   0,   0,   0,   0,   0,   0,   0,\n",
              "         0,   0,   0,   0,   0,   0,   0,   0,   0,   0,   0,   0,   0,\n",
              "         0,   0,   0,   0,   0,   0,   0,   0,   0,   0,   0,   0,   0,\n",
              "         0,   0,   0,   0,   0,   0,   0,   1,  22,  70,  12,   0, 149,\n",
              "         3,   0,   0,   0,   0,   0,   0,   0,   0,   0,   0,   0,   0,\n",
              "         0,   0,   0,   0,   0,   0,   0,   0,   0,   0,   0,   0,   0,\n",
              "         0,   0,   0,   0,   0,   0,   0,   0,   0,   0,   0,   0,   0,\n",
              "         0,   0,   0,   0,   0,   0,   0,   0,   0,   0,   0,   0,   0,\n",
              "         0,   0,   0,   0,   0,   0,   0,   0,   0,   0,   0,   0,   0,\n",
              "         0,   0,   0,   0,   0,   0,   0,   0,   0,   0,   0,   0,   0,\n",
              "         0,   0,   0,   0,   0,   0,   0,   0,   0,   0,   0,   0,   0,\n",
              "         0,   0,   0,   0,   0,   0,   0,   0,   0,   0,   0,   0,   0,\n",
              "         0,   0,   0,   0,   0,   0,   0,   0,   0,   0,   0,   0,   0,\n",
              "         0,   0,   0,   0,   0,   0,   0,   0,   0,   0,   0,   0,   0,\n",
              "         0,   0,   0,   0,   0,   0,   0,   0,   0,   0,   0,   0,   0,\n",
              "         0,   0,   0,   0,   0,   0,   0,   0,   0,   0,   0,   0,   0,\n",
              "         0,   0,   0,   0,   0,   0,   0,   0,   0,   0,   0,   0,   0,\n",
              "         0,   0,   0,   0,   0,   0,   0,   0,   0,   0,   0,   0,   0,\n",
              "         0,   0,   0,   0,   0,   0,   0,   0,   0,   0,   0,   0,   0,\n",
              "         0,   0,   0,   0,   0,   0,   0,   0,   0,   0,   0,   0,   0,\n",
              "         0,   0,   0,   0,   0,   0,   0,   0,   0,   0,   0,   0,   0,\n",
              "         0,   0,   0,   0,   0,   0,   0,   0,   0,   0,   0,   0,   0,\n",
              "         0,   0,   0,   0,   0,   0,   0,   0,   0,   0,   0,   0,   0,\n",
              "         0,   0,   0,   0,   0,   0,   0,   0,   0,   0,   0,   0,   0,\n",
              "         0,   0,   0,   0,   0,   0,   0,   0,   0,   0,   0,   0,   0,\n",
              "         0,   0,   0,   0,   0,   0,   0,   0,   0,   0,   0,   0,   0,\n",
              "         0,   0,   0,   0,   0,   0,   0,   0,   0,   0,   0,   0,   0,\n",
              "         0,   0,   0,   0,   0,   0,   0,   0,   0,   0,   0,   0,   0,\n",
              "         0,   0,   0,   0,   0,   0,   0,   0,   0,   0,   0,   0,   0,\n",
              "         0,   0,   0,   0,   0,   0,   0,   0,   0,   0,   0,   0,   0,\n",
              "         0,   0,   0,   0,   0,   0,   0,   0,   0,   0,   0,   0,   0,\n",
              "         0,   0,   0,   0,   0,   0,   0,   0,   0,   0,   0,   0,   0,\n",
              "         0,   0,   0,   0,   0,   0,   0,   0,   0,   0,   0,   0,   0,\n",
              "         0,   0,   0,   0,   0,   0,   0,   0,   0,   0,   0,   0,   0,\n",
              "         0,   0,   0,   0,   0,   0,   0,   0,   0,   0,   0,   0,   0,\n",
              "         0,   0,   0,   0,   0,   0,   0,   0,   0,   0,   0,   0,   0,\n",
              "         0,   0,   0,   0,   0,   0,   0,   0,   0,   0,   0,   0,   0,\n",
              "         0,   0,   0,   0,   0,   0,   0,   0,   0,   0,   0,   0,   0,\n",
              "         0,   0,   0,   0,   0,   0,   0,   0,   0,   0,   0,   0,   0,\n",
              "         0,   0,   0,   0,   0,   0,   0,   0,   0,   0,   0,   0,   0,\n",
              "         0,   0,   0,   0,   0,   0,   0,   0,   0,   0,   0,   0,   0,\n",
              "         0,   0,   0,   0,   0,   0,   0,   0,   0,   0,   0,   0,   0,\n",
              "         0,   0,   0,   0,   0,   0,   0,   0,   0,   0,   0,   0,   0,\n",
              "         0,   0,   0,   0,   0,   0,   0,   0,   0,   0,   0,   0,   0,\n",
              "         0,   0,   0,   0,   0,   0,   0,   0,   0,   0,   0,   0,   0,\n",
              "         0,   0,   0,   0,   0,   0,   0,   0,   0,   0,   0,   0,   0,\n",
              "         0,   0,   0,   0,   0,   0,   0,   0,   0,   0,   1,   0,   0,\n",
              "         1,   2,   1,   0,   1,   5,   1,   3,  34,   3,   8,   3,   0,\n",
              "        11,  36,   0,   0,   0,  99,  11,   0,   0,   0,   1,   0,   1,\n",
              "         2,   0,   0,   0,   0,   0,   0,   0,   0,   0,   0,   0,   0,\n",
              "         0,   0,   0,   0,   0,   0,   0,   0,   0,   0,   0,   0,   0,\n",
              "         0,   0,   0,   0,   0,   0,   0,   0,   0,   0,   0,   0,   0,\n",
              "         0,   0,   0,   0,   0,   0,   0,   0,   0,   0,   0,   0,   0,\n",
              "         0,   0,   0,   0,   1,   1,   0,   0,   3,   1,   0,   0,   0,\n",
              "         0,   0,   0,   2,   3,   0,   0,   0,   0,   0,   0,   0,   0,\n",
              "         0,   0,   0,   0,   0,   0,   0,   0,   0,   0,   0,   0,   0,\n",
              "         0,   0,   0,   0,   0,   0,   0,   0,   0,   0,   0,   0,   0,\n",
              "         0,   0,   0,   0,   0,   0,   0,   0,   0,   0,   0,   0,   0,\n",
              "         0,   0,   0,   0,   0,   0,   0,   0,   0,   0,   0,   0,   0,\n",
              "         0,   0,   0,   0,   0,   0,   0,   0,   0,   0,   0,   0,   0,\n",
              "         0,   0,   0,   0,   0,   0,   0,   0,   0,   0,   1,   0,   1,\n",
              "         1,   0,   0,   0,   0,   3,  57,  95,   5, 323], dtype=int64)"
            ]
          },
          "metadata": {
            "tags": []
          },
          "execution_count": 75
        }
      ]
    },
    {
      "cell_type": "code",
      "metadata": {
        "id": "flOrPu_-Hhps"
      },
      "source": [
        ""
      ],
      "execution_count": null,
      "outputs": []
    },
    {
      "cell_type": "code",
      "metadata": {
        "id": "cA79YvcuA5Wy"
      },
      "source": [
        "# Applying clustering on SOM data\n",
        "from sklearn.cluster import DBSCAN\n",
        "clustering = DBSCAN(eps=0.5, min_samples=100).fit(som_data) # fitting the data\n",
        "labels = clustering.labels_ # getting labels from the clustered data"
      ],
      "execution_count": null,
      "outputs": []
    },
    {
      "cell_type": "code",
      "metadata": {
        "id": "n6qQ6zvxA5Wy"
      },
      "source": [
        "# applying PCA on data to reduce the dimensions , so that  we can visualize it on 2d plot\n",
        "from sklearn.decomposition import PCA\n",
        "pca = PCA(n_components=2) #initiating PCA\n",
        "dim_red=pca.fit_transform(normalized_data) #reducing the dimensions"
      ],
      "execution_count": null,
      "outputs": []
    },
    {
      "cell_type": "markdown",
      "metadata": {
        "id": "Sx5ViVkoA5Wz"
      },
      "source": [
        "#### Cluster plot"
      ]
    },
    {
      "cell_type": "code",
      "metadata": {
        "colab": {
          "base_uri": "https://localhost:8080/",
          "height": 92
        },
        "id": "l1wWc0K0A5Wz",
        "outputId": "f32c4b02-52c9-4dc4-e059-15def1f3a2ea"
      },
      "source": [
        "import matplotlib.pyplot as plt\n",
        "# draw the points\n",
        "\n",
        "label_map = { l: i for i, l in enumerate(np.unique(labels))}\n",
        "node_colours = [ label_map[target] for target in labels]\n",
        "\n",
        "plt.figure(figsize=(10,10))\n",
        "plt.axes().set(aspect=\"equal\")\n",
        "plt.scatter(dim_red[:,0], \n",
        "            dim_red[:,1], \n",
        "            c=node_colours, alpha=1)\n",
        "plt.title('visualization of node embeddings')\n",
        "\n",
        "plt.show()"
      ],
      "execution_count": null,
      "outputs": [
        {
          "output_type": "display_data",
          "data": {
            "image/png": "[encoded data removed]",
            "text/plain": [
              "<Figure size 720x720 with 1 Axes>"
            ]
          },
          "metadata": {
            "tags": [],
            "needs_background": "light"
          }
        }
      ]
    },
    {
      "cell_type": "markdown",
      "metadata": {
        "id": "fYoiu_erA5Wz"
      },
      "source": [
        "#### Filling the missing values with most frequent values from a cluster"
      ]
    },
    {
      "cell_type": "code",
      "metadata": {
        "id": "hsW7m9DDA5Wz"
      },
      "source": [
        "data_with_missing_values['label']=labels # creating a new column for labels"
      ],
      "execution_count": null,
      "outputs": []
    },
    {
      "cell_type": "code",
      "metadata": {
        "colab": {
          "base_uri": "https://localhost:8080/",
          "height": 166
        },
        "id": "fhtfWtiGA5W0",
        "outputId": "ff1875a4-4bc0-4237-b3fd-3935e4c4053a"
      },
      "source": [
        "data_with_missing_values.head(3) # printing the first few rows "
      ],
      "execution_count": null,
      "outputs": [
        {
          "output_type": "execute_result",
          "data": {
            "text/html": [
              "<div>\n",
              "<style scoped>\n",
              "    .dataframe tbody tr th:only-of-type {\n",
              "        vertical-align: middle;\n",
              "    }\n",
              "\n",
              "    .dataframe tbody tr th {\n",
              "        vertical-align: top;\n",
              "    }\n",
              "\n",
              "    .dataframe thead th {\n",
              "        text-align: right;\n",
              "    }\n",
              "</style>\n",
              "<table border=\"1\" class=\"dataframe\">\n",
              "  <thead>\n",
              "    <tr style=\"text-align: right;\">\n",
              "      <th></th>\n",
              "      <th>Week_No</th>\n",
              "      <th>Recording_Year</th>\n",
              "      <th>Age</th>\n",
              "      <th>Gender</th>\n",
              "      <th>Nationality</th>\n",
              "      <th>Occupation</th>\n",
              "      <th>Municipality_ID</th>\n",
              "      <th>Hospital_Name</th>\n",
              "      <th>The_Final_Diagnosis</th>\n",
              "      <th>Population</th>\n",
              "      <th>...</th>\n",
              "      <th>Area_CL</th>\n",
              "      <th>Area_HC</th>\n",
              "      <th>Area_TC</th>\n",
              "      <th>Area_SV</th>\n",
              "      <th>Urban_Area</th>\n",
              "      <th>Bare_Area</th>\n",
              "      <th>Area_CBA</th>\n",
              "      <th>Area_UBA</th>\n",
              "      <th>Water_Area</th>\n",
              "      <th>label</th>\n",
              "    </tr>\n",
              "    <tr>\n",
              "      <th>Case_ID</th>\n",
              "      <th></th>\n",
              "      <th></th>\n",
              "      <th></th>\n",
              "      <th></th>\n",
              "      <th></th>\n",
              "      <th></th>\n",
              "      <th></th>\n",
              "      <th></th>\n",
              "      <th></th>\n",
              "      <th></th>\n",
              "      <th></th>\n",
              "      <th></th>\n",
              "      <th></th>\n",
              "      <th></th>\n",
              "      <th></th>\n",
              "      <th></th>\n",
              "      <th></th>\n",
              "      <th></th>\n",
              "      <th></th>\n",
              "      <th></th>\n",
              "      <th></th>\n",
              "    </tr>\n",
              "  </thead>\n",
              "  <tbody>\n",
              "    <tr>\n",
              "      <td>2</td>\n",
              "      <td>1</td>\n",
              "      <td>2012</td>\n",
              "      <td>11.0</td>\n",
              "      <td>Male</td>\n",
              "      <td>Saudi</td>\n",
              "      <td>Student</td>\n",
              "      <td>NaN</td>\n",
              "      <td>International Medical Center</td>\n",
              "      <td>Suspect</td>\n",
              "      <td>NaN</td>\n",
              "      <td>...</td>\n",
              "      <td>NaN</td>\n",
              "      <td>NaN</td>\n",
              "      <td>NaN</td>\n",
              "      <td>NaN</td>\n",
              "      <td>NaN</td>\n",
              "      <td>NaN</td>\n",
              "      <td>NaN</td>\n",
              "      <td>NaN</td>\n",
              "      <td>NaN</td>\n",
              "      <td>0</td>\n",
              "    </tr>\n",
              "    <tr>\n",
              "      <td>3</td>\n",
              "      <td>1</td>\n",
              "      <td>2012</td>\n",
              "      <td>35.0</td>\n",
              "      <td>Male</td>\n",
              "      <td>Saudi</td>\n",
              "      <td>NaN</td>\n",
              "      <td>1.0</td>\n",
              "      <td>International Medical Center</td>\n",
              "      <td>Suspect</td>\n",
              "      <td>16867.0</td>\n",
              "      <td>...</td>\n",
              "      <td>0.0</td>\n",
              "      <td>1170000.0</td>\n",
              "      <td>0.0</td>\n",
              "      <td>0.0</td>\n",
              "      <td>4050000.0</td>\n",
              "      <td>180000.0</td>\n",
              "      <td>0.0</td>\n",
              "      <td>1440000.0</td>\n",
              "      <td>0.0</td>\n",
              "      <td>0</td>\n",
              "    </tr>\n",
              "    <tr>\n",
              "      <td>4</td>\n",
              "      <td>1</td>\n",
              "      <td>2012</td>\n",
              "      <td>24.0</td>\n",
              "      <td>Female</td>\n",
              "      <td>Saudi</td>\n",
              "      <td>Teacher</td>\n",
              "      <td>11.0</td>\n",
              "      <td>International Medical Center</td>\n",
              "      <td>Suspect</td>\n",
              "      <td>0.0</td>\n",
              "      <td>...</td>\n",
              "      <td>0.0</td>\n",
              "      <td>0.0</td>\n",
              "      <td>0.0</td>\n",
              "      <td>0.0</td>\n",
              "      <td>8460000.0</td>\n",
              "      <td>0.0</td>\n",
              "      <td>0.0</td>\n",
              "      <td>0.0</td>\n",
              "      <td>0.0</td>\n",
              "      <td>0</td>\n",
              "    </tr>\n",
              "  </tbody>\n",
              "</table>\n",
              "<p>3 rows × 25 columns</p>\n",
              "</div>"
            ],
            "text/plain": [
              "         Week_No  Recording_Year   Age  Gender Nationality Occupation  \\\n",
              "Case_ID                                                                 \n",
              "2              1            2012  11.0    Male       Saudi    Student   \n",
              "3              1            2012  35.0    Male       Saudi        NaN   \n",
              "4              1            2012  24.0  Female       Saudi    Teacher   \n",
              "\n",
              "         Municipality_ID                 Hospital_Name The_Final_Diagnosis  \\\n",
              "Case_ID                                                                      \n",
              "2                    NaN  International Medical Center             Suspect   \n",
              "3                    1.0  International Medical Center             Suspect   \n",
              "4                   11.0  International Medical Center             Suspect   \n",
              "\n",
              "         Population  ...  Area_CL    Area_HC  Area_TC  Area_SV  Urban_Area  \\\n",
              "Case_ID              ...                                                     \n",
              "2               NaN  ...      NaN        NaN      NaN      NaN         NaN   \n",
              "3           16867.0  ...      0.0  1170000.0      0.0      0.0   4050000.0   \n",
              "4               0.0  ...      0.0        0.0      0.0      0.0   8460000.0   \n",
              "\n",
              "         Bare_Area  Area_CBA   Area_UBA  Water_Area  label  \n",
              "Case_ID                                                     \n",
              "2              NaN       NaN        NaN         NaN      0  \n",
              "3         180000.0       0.0  1440000.0         0.0      0  \n",
              "4              0.0       0.0        0.0         0.0      0  \n",
              "\n",
              "[3 rows x 25 columns]"
            ]
          },
          "metadata": {
            "tags": []
          },
          "execution_count": 80
        }
      ]
    },
    {
      "cell_type": "code",
      "metadata": {
        "colab": {
          "base_uri": "https://localhost:8080/"
        },
        "id": "OIRgfNvkA5W0",
        "outputId": "8cf73906-d10e-4b07-def1-8e0f5e37236f"
      },
      "source": [
        "data_with_missing_values.isna().any()# checking for nan columns"
      ],
      "execution_count": null,
      "outputs": [
        {
          "output_type": "execute_result",
          "data": {
            "text/plain": [
              "Week_No                False\n",
              "Recording_Year         False\n",
              "Age                     True\n",
              "Gender                  True\n",
              "Nationality             True\n",
              "Occupation              True\n",
              "Municipality_ID         True\n",
              "Hospital_Name          False\n",
              "The_Final_Diagnosis     True\n",
              "Population              True\n",
              "Temperature             True\n",
              "Precipitation           True\n",
              "Wind_Speed              True\n",
              "Humidity                True\n",
              "Elevation               True\n",
              "Area_CL                 True\n",
              "Area_HC                 True\n",
              "Area_TC                 True\n",
              "Area_SV                 True\n",
              "Urban_Area              True\n",
              "Bare_Area               True\n",
              "Area_CBA                True\n",
              "Area_UBA                True\n",
              "Water_Area              True\n",
              "label                  False\n",
              "dtype: bool"
            ]
          },
          "metadata": {
            "tags": []
          },
          "execution_count": 88
        }
      ]
    },
    {
      "cell_type": "code",
      "metadata": {
        "id": "pg34fZiFA5W0"
      },
      "source": [
        "missing_data = data_with_missing_values.groupby('label') # grouping data based on labels (clustering labels)"
      ],
      "execution_count": null,
      "outputs": []
    },
    {
      "cell_type": "code",
      "metadata": {
        "colab": {
          "base_uri": "https://localhost:8080/",
          "height": 373
        },
        "id": "_FwswRM8A5W0",
        "outputId": "98b9c9f6-5f46-43f7-f3fc-7a8c3573181b"
      },
      "source": [
        "missing_data.agg(pd.Series.mode) # aggregating based on most frequent values (mode)"
      ],
      "execution_count": null,
      "outputs": [
        {
          "output_type": "execute_result",
          "data": {
            "text/html": [
              "<div>\n",
              "<style scoped>\n",
              "    .dataframe tbody tr th:only-of-type {\n",
              "        vertical-align: middle;\n",
              "    }\n",
              "\n",
              "    .dataframe tbody tr th {\n",
              "        vertical-align: top;\n",
              "    }\n",
              "\n",
              "    .dataframe thead th {\n",
              "        text-align: right;\n",
              "    }\n",
              "</style>\n",
              "<table border=\"1\" class=\"dataframe\">\n",
              "  <thead>\n",
              "    <tr style=\"text-align: right;\">\n",
              "      <th></th>\n",
              "      <th>Week_No</th>\n",
              "      <th>Recording_Year</th>\n",
              "      <th>Age</th>\n",
              "      <th>Gender</th>\n",
              "      <th>Nationality</th>\n",
              "      <th>Occupation</th>\n",
              "      <th>Municipality_ID</th>\n",
              "      <th>Hospital_Name</th>\n",
              "      <th>The_Final_Diagnosis</th>\n",
              "      <th>Population</th>\n",
              "      <th>...</th>\n",
              "      <th>Elevation</th>\n",
              "      <th>Area_CL</th>\n",
              "      <th>Area_HC</th>\n",
              "      <th>Area_TC</th>\n",
              "      <th>Area_SV</th>\n",
              "      <th>Urban_Area</th>\n",
              "      <th>Bare_Area</th>\n",
              "      <th>Area_CBA</th>\n",
              "      <th>Area_UBA</th>\n",
              "      <th>Water_Area</th>\n",
              "    </tr>\n",
              "    <tr>\n",
              "      <th>label</th>\n",
              "      <th></th>\n",
              "      <th></th>\n",
              "      <th></th>\n",
              "      <th></th>\n",
              "      <th></th>\n",
              "      <th></th>\n",
              "      <th></th>\n",
              "      <th></th>\n",
              "      <th></th>\n",
              "      <th></th>\n",
              "      <th></th>\n",
              "      <th></th>\n",
              "      <th></th>\n",
              "      <th></th>\n",
              "      <th></th>\n",
              "      <th></th>\n",
              "      <th></th>\n",
              "      <th></th>\n",
              "      <th></th>\n",
              "      <th></th>\n",
              "      <th></th>\n",
              "    </tr>\n",
              "  </thead>\n",
              "  <tbody>\n",
              "    <tr>\n",
              "      <td>-1</td>\n",
              "      <td>24</td>\n",
              "      <td>2012</td>\n",
              "      <td>30</td>\n",
              "      <td>Male</td>\n",
              "      <td>Saudi</td>\n",
              "      <td>Student</td>\n",
              "      <td>3.0</td>\n",
              "      <td>King Abdulaziz Hospital</td>\n",
              "      <td>Confirmed</td>\n",
              "      <td>0</td>\n",
              "      <td>...</td>\n",
              "      <td>28.5425</td>\n",
              "      <td>0.0</td>\n",
              "      <td>0.0</td>\n",
              "      <td>0.0</td>\n",
              "      <td>0.0</td>\n",
              "      <td>2.16e+06</td>\n",
              "      <td>0.0</td>\n",
              "      <td>0.0</td>\n",
              "      <td>0.0</td>\n",
              "      <td>0.0</td>\n",
              "    </tr>\n",
              "    <tr>\n",
              "      <td>0</td>\n",
              "      <td>52</td>\n",
              "      <td>2012</td>\n",
              "      <td>[28.0, 30.0]</td>\n",
              "      <td>Male</td>\n",
              "      <td>Saudi</td>\n",
              "      <td>Student</td>\n",
              "      <td>2.0</td>\n",
              "      <td>International Medical Center</td>\n",
              "      <td>Suspect</td>\n",
              "      <td>0</td>\n",
              "      <td>...</td>\n",
              "      <td>0</td>\n",
              "      <td>0.0</td>\n",
              "      <td>0.0</td>\n",
              "      <td>0.0</td>\n",
              "      <td>0.0</td>\n",
              "      <td>8.46e+06</td>\n",
              "      <td>0.0</td>\n",
              "      <td>0.0</td>\n",
              "      <td>0.0</td>\n",
              "      <td>0.0</td>\n",
              "    </tr>\n",
              "    <tr>\n",
              "      <td>1</td>\n",
              "      <td>12</td>\n",
              "      <td>2012</td>\n",
              "      <td>31</td>\n",
              "      <td>Male</td>\n",
              "      <td>Saudi</td>\n",
              "      <td>Student</td>\n",
              "      <td>6.0</td>\n",
              "      <td>Jeddah National Hospital</td>\n",
              "      <td>Confirmed</td>\n",
              "      <td>26915</td>\n",
              "      <td>...</td>\n",
              "      <td>65.8208</td>\n",
              "      <td>0.0</td>\n",
              "      <td>0.0</td>\n",
              "      <td>0.0</td>\n",
              "      <td>0.0</td>\n",
              "      <td>1.404e+07</td>\n",
              "      <td>0.0</td>\n",
              "      <td>0.0</td>\n",
              "      <td>90000.0</td>\n",
              "      <td>0.0</td>\n",
              "    </tr>\n",
              "    <tr>\n",
              "      <td>2</td>\n",
              "      <td>52</td>\n",
              "      <td>2012</td>\n",
              "      <td>35</td>\n",
              "      <td>Male</td>\n",
              "      <td>Egyptian</td>\n",
              "      <td>Labourer</td>\n",
              "      <td>2.0</td>\n",
              "      <td>Al Zahra'a Hospital</td>\n",
              "      <td>Confirmed</td>\n",
              "      <td>[1895.0, 142542.0]</td>\n",
              "      <td>...</td>\n",
              "      <td>[17.385122, 83.234754]</td>\n",
              "      <td>0.0</td>\n",
              "      <td>0.0</td>\n",
              "      <td>0.0</td>\n",
              "      <td>0.0</td>\n",
              "      <td>[4590000.0, 4770000.0]</td>\n",
              "      <td>0.0</td>\n",
              "      <td>0.0</td>\n",
              "      <td>0.0</td>\n",
              "      <td>0.0</td>\n",
              "    </tr>\n",
              "  </tbody>\n",
              "</table>\n",
              "<p>4 rows × 24 columns</p>\n",
              "</div>"
            ],
            "text/plain": [
              "       Week_No  Recording_Year           Age Gender Nationality Occupation  \\\n",
              "label                                                                        \n",
              "-1          24            2012            30   Male       Saudi    Student   \n",
              " 0          52            2012  [28.0, 30.0]   Male       Saudi    Student   \n",
              " 1          12            2012            31   Male       Saudi    Student   \n",
              " 2          52            2012            35   Male    Egyptian   Labourer   \n",
              "\n",
              "       Municipality_ID                 Hospital_Name The_Final_Diagnosis  \\\n",
              "label                                                                      \n",
              "-1                 3.0       King Abdulaziz Hospital           Confirmed   \n",
              " 0                 2.0  International Medical Center             Suspect   \n",
              " 1                 6.0      Jeddah National Hospital           Confirmed   \n",
              " 2                 2.0           Al Zahra'a Hospital           Confirmed   \n",
              "\n",
              "               Population  ...               Elevation Area_CL  Area_HC  \\\n",
              "label                      ...                                            \n",
              "-1                      0  ...                 28.5425     0.0      0.0   \n",
              " 0                      0  ...                       0     0.0      0.0   \n",
              " 1                  26915  ...                 65.8208     0.0      0.0   \n",
              " 2     [1895.0, 142542.0]  ...  [17.385122, 83.234754]     0.0      0.0   \n",
              "\n",
              "       Area_TC Area_SV              Urban_Area  Bare_Area  Area_CBA  Area_UBA  \\\n",
              "label                                                                           \n",
              "-1         0.0     0.0                2.16e+06        0.0       0.0       0.0   \n",
              " 0         0.0     0.0                8.46e+06        0.0       0.0       0.0   \n",
              " 1         0.0     0.0               1.404e+07        0.0       0.0   90000.0   \n",
              " 2         0.0     0.0  [4590000.0, 4770000.0]        0.0       0.0       0.0   \n",
              "\n",
              "      Water_Area  \n",
              "label             \n",
              "-1           0.0  \n",
              " 0           0.0  \n",
              " 1           0.0  \n",
              " 2           0.0  \n",
              "\n",
              "[4 rows x 24 columns]"
            ]
          },
          "metadata": {
            "tags": []
          },
          "execution_count": 90
        }
      ]
    },
    {
      "cell_type": "code",
      "metadata": {
        "id": "iIDxsWIRA5W1"
      },
      "source": [
        "try:\n",
        "    for data in range(len(data_with_missing_values.Week_No.values)): # for every data in category\n",
        "        if(np.isnan(data_with_missing_values['Week_No'][data])): # checking for nan values \n",
        "            z = missing_data.Week_No.agg(pd.Series.mode)[data_with_missing_values['label'][data]] # finding the value which we want to replace\n",
        "            try:\n",
        "                data_with_missing_values['Week_No'][data] = z[0] # if two or more value , then we are assignng 1st value\n",
        "            except:\n",
        "                try:\n",
        "                    data_with_missing_values['Week_No'][data] = z # else we will assign the single returned value\n",
        "                except:\n",
        "                    data_with_missing_values['Week_No'][data]=0\n",
        "except:\n",
        "    data_with_missing_values.Week_No.fillna(data_with_missing_values.Week_No.mean(),inplace=True)"
      ],
      "execution_count": null,
      "outputs": []
    },
    {
      "cell_type": "code",
      "metadata": {
        "colab": {
          "base_uri": "https://localhost:8080/"
        },
        "id": "IrewQh3dA5W1",
        "outputId": "24b7626e-87b1-462e-dc5d-e163be2c8c10"
      },
      "source": [
        "data_with_missing_values.Week_No.isna().any()"
      ],
      "execution_count": null,
      "outputs": [
        {
          "output_type": "execute_result",
          "data": {
            "text/plain": [
              "False"
            ]
          },
          "metadata": {
            "tags": []
          },
          "execution_count": 92
        }
      ]
    },
    {
      "cell_type": "code",
      "metadata": {
        "id": "aH_MGMDvA5W1"
      },
      "source": [
        "try:\n",
        "    for data in range(len(data_with_missing_values.Disrtict_Code.values)): # for every data in category\n",
        "        if(np.isnan(data_with_missing_values['Municipality_ID'][data])): # checking for nan values \n",
        "            z = missing_data.Disrtict_Code.agg(pd.Series.mode)[data_with_missing_values['label'][data]]# finding the value which we want to replace\n",
        "            try:\n",
        "                data_with_missing_values['Municipality_ID'][data] = z[0] # if two or more value , then we are assignng 1st value\n",
        "            except:\n",
        "                try:\n",
        "                    data_with_missing_values['Municipality_ID'][data] = z  # else we will assign the single returned value\n",
        "                except:\n",
        "                    data_with_missing_values['Municipality_ID'][data]=0\n",
        "except:\n",
        "    data_with_missing_values.Municipality_ID.fillna(data_with_missing_values.Municipality_ID.mean(),inplace=True)"
      ],
      "execution_count": null,
      "outputs": []
    },
    {
      "cell_type": "code",
      "metadata": {
        "colab": {
          "base_uri": "https://localhost:8080/"
        },
        "id": "5lX_48vRA5W2",
        "outputId": "2f561221-8a60-4a05-e4f8-3be5304203d2"
      },
      "source": [
        "data_with_missing_values.Municipality_ID.isna().any()"
      ],
      "execution_count": null,
      "outputs": [
        {
          "output_type": "execute_result",
          "data": {
            "text/plain": [
              "False"
            ]
          },
          "metadata": {
            "tags": []
          },
          "execution_count": 95
        }
      ]
    },
    {
      "cell_type": "code",
      "metadata": {
        "colab": {
          "base_uri": "https://localhost:8080/"
        },
        "id": "oQfJL3WGA5W2",
        "outputId": "fda824f4-eca8-45a0-b1e9-abec76427281"
      },
      "source": [
        "data_with_missing_values.isna().any()"
      ],
      "execution_count": null,
      "outputs": [
        {
          "output_type": "execute_result",
          "data": {
            "text/plain": [
              "Week_No                False\n",
              "Recording_Year         False\n",
              "Age                     True\n",
              "Gender                  True\n",
              "Nationality             True\n",
              "Occupation              True\n",
              "Municipality_ID        False\n",
              "Hospital_Name          False\n",
              "The_Final_Diagnosis     True\n",
              "Population              True\n",
              "Temperature             True\n",
              "Precipitation           True\n",
              "Wind_Speed              True\n",
              "Humidity                True\n",
              "Elevation               True\n",
              "Area_CL                 True\n",
              "Area_HC                 True\n",
              "Area_TC                 True\n",
              "Area_SV                 True\n",
              "Urban_Area              True\n",
              "Bare_Area               True\n",
              "Area_CBA                True\n",
              "Area_UBA                True\n",
              "Water_Area              True\n",
              "label                  False\n",
              "dtype: bool"
            ]
          },
          "metadata": {
            "tags": []
          },
          "execution_count": 96
        }
      ]
    },
    {
      "cell_type": "code",
      "metadata": {
        "id": "sH05n1cxA5W2"
      },
      "source": [
        "try:\n",
        "    for data in range(len(data_with_missing_values.Nationalty.values)):# for every data in category\n",
        "        if(pd.isnull(data_with_missing_values['Nationality'][data])): # checking for nan values \n",
        "            z = missing_data.Nationalty.agg(pd.Series.mode)[data_with_missing_values['label'][data]]# finding the value which we want to replace\n",
        "            try:\n",
        "                data_with_missing_values['Nationality'][data] = z[0]# if two or more value , then we are assignng 1st value\n",
        "            except:\n",
        "                try:\n",
        "                    data_with_missing_values['Nationality'][data] = z  # else we will assign the single returned value\n",
        "                except:\n",
        "                    data_with_missing_values['Nationality'][data]=0\n",
        "except:\n",
        "    data_with_missing_values.Nationality.fillna('Saudi',inplace=True)"
      ],
      "execution_count": null,
      "outputs": []
    },
    {
      "cell_type": "code",
      "metadata": {
        "colab": {
          "base_uri": "https://localhost:8080/"
        },
        "id": "1aS1gEQsA5W3",
        "outputId": "ae8c4585-ff73-439d-ef3f-5dd4f7e641e9"
      },
      "source": [
        "data_with_missing_values.Nationality.isna().any()"
      ],
      "execution_count": null,
      "outputs": [
        {
          "output_type": "execute_result",
          "data": {
            "text/plain": [
              "False"
            ]
          },
          "metadata": {
            "tags": []
          },
          "execution_count": 98
        }
      ]
    },
    {
      "cell_type": "code",
      "metadata": {
        "id": "lHMEl3lKA5W3"
      },
      "source": [
        "try:\n",
        "    for data in range(len(data_with_missing_values.Occupation.values)):# for every data in category\n",
        "        if(pd.isnull(data_with_missing_values['Occupation'][data])): # checking for nan values \n",
        "            z = missing_data.Occupation.agg(pd.Series.mode)[data_with_missing_values['label'][data]]# finding the value which we want to replace\n",
        "            try:\n",
        "                data_with_missing_values['Occupation'][data] = z[0]# if two or more value , then we are assignng 1st value\n",
        "            except:\n",
        "                try:\n",
        "                    data_with_missing_values['Occupation'][data] = z  # else we will assign the single returned value\n",
        "                except:\n",
        "                    data_with_missing_values['Occupation'][data]=0\n",
        "except:\n",
        "    data_with_missing_values.Occupation.fillna('Student',inplace=True) # filling with student as most of clusters have student as mode "
      ],
      "execution_count": null,
      "outputs": []
    },
    {
      "cell_type": "code",
      "metadata": {
        "colab": {
          "base_uri": "https://localhost:8080/"
        },
        "id": "Iv-iTgVaA5W4",
        "outputId": "6ff70c9e-d12e-47df-c2ee-0f84d3c02c1f"
      },
      "source": [
        "data_with_missing_values.Occupation.isna().any()"
      ],
      "execution_count": null,
      "outputs": [
        {
          "output_type": "execute_result",
          "data": {
            "text/plain": [
              "False"
            ]
          },
          "metadata": {
            "tags": []
          },
          "execution_count": 100
        }
      ]
    },
    {
      "cell_type": "code",
      "metadata": {
        "id": "p2YYyGRjA5W4"
      },
      "source": [
        "try:\n",
        "    for data in range(len(data_with_missing_values.City.values)):# for every data in category\n",
        "        if(pd.isnull(data_with_missing_values['Hospital_Name'][data])): # checking for nan values \n",
        "            z = missing_data.City.agg(pd.Series.mode)[data_with_missing_values['label'][data]]# finding the value which we want to replace\n",
        "            try:\n",
        "                data_with_missing_values['Hospital_Name'][data] = z[0] # if two or more value , then we are assignng 1st value\n",
        "            except:\n",
        "                try:\n",
        "                    data_with_missing_values['Hospital_Name'][data] = z  # else we will assign the single returned value\n",
        "                except:\n",
        "                    data_with_missing_values['Hospital_Name'][data]=0\n",
        "except:\n",
        "    data_with_missing_values.Hospital_Name.fillna('Jeddah National Hospital',inplace=True)"
      ],
      "execution_count": null,
      "outputs": []
    },
    {
      "cell_type": "code",
      "metadata": {
        "id": "WfVoa4SE9z_5",
        "outputId": "133e0742-f770-419c-bf75-45411529f0d1"
      },
      "source": [
        "data_with_missing_values.Hospital_Name.isna().any()"
      ],
      "execution_count": null,
      "outputs": [
        {
          "output_type": "execute_result",
          "data": {
            "text/plain": [
              "False"
            ]
          },
          "metadata": {
            "tags": []
          },
          "execution_count": 102
        }
      ]
    },
    {
      "cell_type": "code",
      "metadata": {
        "id": "-V-2ffdwA5W5"
      },
      "source": [
        "data_with_missing_values.Age.fillna(data_with_missing_values.Age.mean(),inplace=True) # here we are filling with mean, because age is continous term , not a categorical value"
      ],
      "execution_count": null,
      "outputs": []
    },
    {
      "cell_type": "code",
      "metadata": {
        "colab": {
          "base_uri": "https://localhost:8080/"
        },
        "id": "4XoQ-QrdA5W6",
        "outputId": "6fd72b68-6197-4398-ebb3-b60f64e43640"
      },
      "source": [
        "data_with_missing_values.isna().any() # checking for missing values"
      ],
      "execution_count": null,
      "outputs": [
        {
          "output_type": "execute_result",
          "data": {
            "text/plain": [
              "Week_No                False\n",
              "Recording_Year         False\n",
              "Age                    False\n",
              "Gender                  True\n",
              "Nationality            False\n",
              "Occupation             False\n",
              "Municipality_ID        False\n",
              "Hospital_Name          False\n",
              "The_Final_Diagnosis     True\n",
              "Population              True\n",
              "Temperature             True\n",
              "Precipitation           True\n",
              "Wind_Speed              True\n",
              "Humidity                True\n",
              "Elevation               True\n",
              "Area_CL                 True\n",
              "Area_HC                 True\n",
              "Area_TC                 True\n",
              "Area_SV                 True\n",
              "Urban_Area              True\n",
              "Bare_Area               True\n",
              "Area_CBA                True\n",
              "Area_UBA                True\n",
              "Water_Area              True\n",
              "label                  False\n",
              "dtype: bool"
            ]
          },
          "metadata": {
            "tags": []
          },
          "execution_count": 104
        }
      ]
    },
    {
      "cell_type": "code",
      "metadata": {
        "id": "Zi_pt07rA5W7"
      },
      "source": [
        "data_with_missing_values.to_csv('imputed_data.csv') # saving the imputed data to a csv file"
      ],
      "execution_count": null,
      "outputs": []
    },
    {
      "cell_type": "code",
      "metadata": {
        "colab": {
          "base_uri": "https://localhost:8080/",
          "height": 166
        },
        "id": "WLoSgkDSA5W7",
        "outputId": "6a6919e5-0d3a-448d-b73c-33944c2b3a41"
      },
      "source": [
        "import pandas as pd \n",
        "df = pd.read_csv('imputed_data.csv', index_col=0) # reading the csv file\n",
        "df.head(3)"
      ],
      "execution_count": null,
      "outputs": [
        {
          "output_type": "execute_result",
          "data": {
            "text/html": [
              "<div>\n",
              "<style scoped>\n",
              "    .dataframe tbody tr th:only-of-type {\n",
              "        vertical-align: middle;\n",
              "    }\n",
              "\n",
              "    .dataframe tbody tr th {\n",
              "        vertical-align: top;\n",
              "    }\n",
              "\n",
              "    .dataframe thead th {\n",
              "        text-align: right;\n",
              "    }\n",
              "</style>\n",
              "<table border=\"1\" class=\"dataframe\">\n",
              "  <thead>\n",
              "    <tr style=\"text-align: right;\">\n",
              "      <th></th>\n",
              "      <th>Week_No</th>\n",
              "      <th>Recording_Year</th>\n",
              "      <th>Age</th>\n",
              "      <th>Gender</th>\n",
              "      <th>Nationalty</th>\n",
              "      <th>Occupation</th>\n",
              "      <th>Disrtict_Code</th>\n",
              "      <th>City</th>\n",
              "      <th>The_Final_Diagnosis</th>\n",
              "      <th>label</th>\n",
              "    </tr>\n",
              "    <tr>\n",
              "      <th>Investigation_Id</th>\n",
              "      <th></th>\n",
              "      <th></th>\n",
              "      <th></th>\n",
              "      <th></th>\n",
              "      <th></th>\n",
              "      <th></th>\n",
              "      <th></th>\n",
              "      <th></th>\n",
              "      <th></th>\n",
              "      <th></th>\n",
              "    </tr>\n",
              "  </thead>\n",
              "  <tbody>\n",
              "    <tr>\n",
              "      <th>JED012-1</th>\n",
              "      <td>1.0</td>\n",
              "      <td>2012</td>\n",
              "      <td>26.0</td>\n",
              "      <td>Male</td>\n",
              "      <td>Saudi</td>\n",
              "      <td>Soldier</td>\n",
              "      <td>33.0</td>\n",
              "      <td>Jeddah</td>\n",
              "      <td>Confirmed</td>\n",
              "      <td>0</td>\n",
              "    </tr>\n",
              "    <tr>\n",
              "      <th>JED012-2</th>\n",
              "      <td>2.0</td>\n",
              "      <td>2012</td>\n",
              "      <td>15.0</td>\n",
              "      <td>Male</td>\n",
              "      <td>Saudi</td>\n",
              "      <td>Student</td>\n",
              "      <td>43.0</td>\n",
              "      <td>Jeddah</td>\n",
              "      <td>Confirmed</td>\n",
              "      <td>1</td>\n",
              "    </tr>\n",
              "    <tr>\n",
              "      <th>JED012-3</th>\n",
              "      <td>3.0</td>\n",
              "      <td>2012</td>\n",
              "      <td>24.0</td>\n",
              "      <td>Female</td>\n",
              "      <td>Saudi</td>\n",
              "      <td>Student</td>\n",
              "      <td>33.0</td>\n",
              "      <td>Jeddah</td>\n",
              "      <td>Confirmed</td>\n",
              "      <td>1</td>\n",
              "    </tr>\n",
              "  </tbody>\n",
              "</table>\n",
              "</div>"
            ],
            "text/plain": [
              "                  Week_No  Recording_Year  ...  The_Final_Diagnosis label\n",
              "Investigation_Id                           ...                           \n",
              "JED012-1              1.0            2012  ...            Confirmed     0\n",
              "JED012-2              2.0            2012  ...            Confirmed     1\n",
              "JED012-3              3.0            2012  ...            Confirmed     1\n",
              "\n",
              "[3 rows x 10 columns]"
            ]
          },
          "metadata": {
            "tags": []
          },
          "execution_count": 70
        }
      ]
    },
    {
      "cell_type": "code",
      "metadata": {
        "colab": {
          "base_uri": "https://localhost:8080/"
        },
        "id": "uRrIbtmtA5W7",
        "outputId": "f6d53f43-9130-42df-f57c-c92b8b3f1df3"
      },
      "source": [
        "df.isna().any() # checking for nan values in the imputed data "
      ],
      "execution_count": null,
      "outputs": [
        {
          "output_type": "execute_result",
          "data": {
            "text/plain": [
              "Week_No                False\n",
              "Recording_Year         False\n",
              "Age                    False\n",
              "Gender                 False\n",
              "Nationalty             False\n",
              "Occupation             False\n",
              "Disrtict_Code          False\n",
              "City                   False\n",
              "The_Final_Diagnosis    False\n",
              "label                  False\n",
              "dtype: bool"
            ]
          },
          "metadata": {
            "tags": []
          },
          "execution_count": 71
        }
      ]
    },
    {
      "cell_type": "code",
      "metadata": {
        "id": "GeV6kQejA5W8"
      },
      "source": [
        ""
      ],
      "execution_count": null,
      "outputs": []
    }
  ]
}